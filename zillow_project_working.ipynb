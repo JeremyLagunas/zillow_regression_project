{
 "cells": [
  {
   "cell_type": "code",
   "execution_count": 2,
   "id": "1e0b6952",
   "metadata": {},
   "outputs": [],
   "source": [
    "import warnings\n",
    "warnings.filterwarnings('ignore')\n",
    "import matplotlib.pyplot as plt\n",
    "import seaborn as sns\n",
    "import pandas as pd\n",
    "import numpy as np\n",
    "import os\n",
    "from env import host, user, password\n",
    "import wrangle\n"
   ]
  },
  {
   "cell_type": "markdown",
   "id": "4bdbe688",
   "metadata": {},
   "source": [
    "# Acquire"
   ]
  },
  {
   "cell_type": "code",
   "execution_count": 3,
   "id": "0efd460f",
   "metadata": {},
   "outputs": [],
   "source": [
    "df = wrangle.new_zillow_data()"
   ]
  },
  {
   "cell_type": "code",
   "execution_count": 4,
   "id": "a700c502",
   "metadata": {},
   "outputs": [
    {
     "data": {
      "text/html": [
       "<div>\n",
       "<style scoped>\n",
       "    .dataframe tbody tr th:only-of-type {\n",
       "        vertical-align: middle;\n",
       "    }\n",
       "\n",
       "    .dataframe tbody tr th {\n",
       "        vertical-align: top;\n",
       "    }\n",
       "\n",
       "    .dataframe thead th {\n",
       "        text-align: right;\n",
       "    }\n",
       "</style>\n",
       "<table border=\"1\" class=\"dataframe\">\n",
       "  <thead>\n",
       "    <tr style=\"text-align: right;\">\n",
       "      <th></th>\n",
       "      <th>bedroomcnt</th>\n",
       "      <th>bathroomcnt</th>\n",
       "      <th>calculatedfinishedsquarefeet</th>\n",
       "      <th>taxvaluedollarcnt</th>\n",
       "      <th>lotsizesquarefeet</th>\n",
       "      <th>regionidzip</th>\n",
       "      <th>yearbuilt</th>\n",
       "      <th>poolcnt</th>\n",
       "      <th>fireplacecnt</th>\n",
       "    </tr>\n",
       "  </thead>\n",
       "  <tbody>\n",
       "    <tr>\n",
       "      <th>0</th>\n",
       "      <td>4.0</td>\n",
       "      <td>3.5</td>\n",
       "      <td>3100.0</td>\n",
       "      <td>1023282.0</td>\n",
       "      <td>4506.0</td>\n",
       "      <td>96978.0</td>\n",
       "      <td>1998.0</td>\n",
       "      <td>NaN</td>\n",
       "      <td>NaN</td>\n",
       "    </tr>\n",
       "    <tr>\n",
       "      <th>1</th>\n",
       "      <td>2.0</td>\n",
       "      <td>1.0</td>\n",
       "      <td>1465.0</td>\n",
       "      <td>464000.0</td>\n",
       "      <td>12647.0</td>\n",
       "      <td>97099.0</td>\n",
       "      <td>1967.0</td>\n",
       "      <td>NaN</td>\n",
       "      <td>1.0</td>\n",
       "    </tr>\n",
       "    <tr>\n",
       "      <th>2</th>\n",
       "      <td>3.0</td>\n",
       "      <td>2.0</td>\n",
       "      <td>1243.0</td>\n",
       "      <td>564778.0</td>\n",
       "      <td>8432.0</td>\n",
       "      <td>97078.0</td>\n",
       "      <td>1962.0</td>\n",
       "      <td>1.0</td>\n",
       "      <td>NaN</td>\n",
       "    </tr>\n",
       "    <tr>\n",
       "      <th>3</th>\n",
       "      <td>4.0</td>\n",
       "      <td>3.0</td>\n",
       "      <td>2376.0</td>\n",
       "      <td>145143.0</td>\n",
       "      <td>13038.0</td>\n",
       "      <td>96330.0</td>\n",
       "      <td>1970.0</td>\n",
       "      <td>1.0</td>\n",
       "      <td>NaN</td>\n",
       "    </tr>\n",
       "    <tr>\n",
       "      <th>4</th>\n",
       "      <td>4.0</td>\n",
       "      <td>3.0</td>\n",
       "      <td>2962.0</td>\n",
       "      <td>773303.0</td>\n",
       "      <td>63000.0</td>\n",
       "      <td>96293.0</td>\n",
       "      <td>1950.0</td>\n",
       "      <td>1.0</td>\n",
       "      <td>NaN</td>\n",
       "    </tr>\n",
       "  </tbody>\n",
       "</table>\n",
       "</div>"
      ],
      "text/plain": [
       "   bedroomcnt  bathroomcnt  calculatedfinishedsquarefeet  taxvaluedollarcnt  \\\n",
       "0         4.0          3.5                        3100.0          1023282.0   \n",
       "1         2.0          1.0                        1465.0           464000.0   \n",
       "2         3.0          2.0                        1243.0           564778.0   \n",
       "3         4.0          3.0                        2376.0           145143.0   \n",
       "4         4.0          3.0                        2962.0           773303.0   \n",
       "\n",
       "   lotsizesquarefeet  regionidzip  yearbuilt  poolcnt  fireplacecnt  \n",
       "0             4506.0      96978.0     1998.0      NaN           NaN  \n",
       "1            12647.0      97099.0     1967.0      NaN           1.0  \n",
       "2             8432.0      97078.0     1962.0      1.0           NaN  \n",
       "3            13038.0      96330.0     1970.0      1.0           NaN  \n",
       "4            63000.0      96293.0     1950.0      1.0           NaN  "
      ]
     },
     "execution_count": 4,
     "metadata": {},
     "output_type": "execute_result"
    }
   ],
   "source": [
    "df.head()"
   ]
  },
  {
   "cell_type": "code",
   "execution_count": 5,
   "id": "b68ac7df",
   "metadata": {},
   "outputs": [
    {
     "data": {
      "text/plain": [
       "(52441, 9)"
      ]
     },
     "execution_count": 5,
     "metadata": {},
     "output_type": "execute_result"
    }
   ],
   "source": [
    "df.shape"
   ]
  },
  {
   "cell_type": "markdown",
   "id": "26d8c38e",
   "metadata": {},
   "source": [
    "# Prepare"
   ]
  },
  {
   "cell_type": "code",
   "execution_count": 6,
   "id": "37e07531",
   "metadata": {},
   "outputs": [],
   "source": [
    "df.rename(columns = {'bedroomcnt':'bed', 'bathroomcnt':'bath', 'calculatedfinishedsquarefeet':'square_feet', 'taxvaluedollarcnt':'price', 'lotsizesquarefeet':'lot_square_feet', 'regionidzip':'zipcode', 'yearbuilt':'year_built', 'poolcnt':'pool', 'fireplacecnt':'fireplace'}, inplace=True)"
   ]
  },
  {
   "cell_type": "code",
   "execution_count": 7,
   "id": "eeb09e6f",
   "metadata": {},
   "outputs": [
    {
     "data": {
      "text/plain": [
       "Index(['bed', 'bath', 'square_feet', 'price', 'lot_square_feet', 'zipcode',\n",
       "       'year_built', 'pool', 'fireplace'],\n",
       "      dtype='object')"
      ]
     },
     "execution_count": 7,
     "metadata": {},
     "output_type": "execute_result"
    }
   ],
   "source": [
    "df.columns"
   ]
  },
  {
   "cell_type": "code",
   "execution_count": 8,
   "id": "93a95cc5",
   "metadata": {},
   "outputs": [
    {
     "name": "stdout",
     "output_type": "stream",
     "text": [
      "<class 'pandas.core.frame.DataFrame'>\n",
      "RangeIndex: 52441 entries, 0 to 52440\n",
      "Data columns (total 9 columns):\n",
      " #   Column           Non-Null Count  Dtype  \n",
      "---  ------           --------------  -----  \n",
      " 0   bed              52441 non-null  float64\n",
      " 1   bath             52441 non-null  float64\n",
      " 2   square_feet      52359 non-null  float64\n",
      " 3   price            52440 non-null  float64\n",
      " 4   lot_square_feet  52072 non-null  float64\n",
      " 5   zipcode          52415 non-null  float64\n",
      " 6   year_built       52325 non-null  float64\n",
      " 7   pool             11096 non-null  float64\n",
      " 8   fireplace        7243 non-null   float64\n",
      "dtypes: float64(9)\n",
      "memory usage: 3.6 MB\n"
     ]
    }
   ],
   "source": [
    "df.info()"
   ]
  },
  {
   "cell_type": "code",
   "execution_count": 9,
   "id": "0b36cf6e",
   "metadata": {},
   "outputs": [
    {
     "data": {
      "text/plain": [
       "bed                    0\n",
       "bath                   0\n",
       "square_feet           82\n",
       "price                  1\n",
       "lot_square_feet      369\n",
       "zipcode               26\n",
       "year_built           116\n",
       "pool               41345\n",
       "fireplace          45198\n",
       "dtype: int64"
      ]
     },
     "execution_count": 9,
     "metadata": {},
     "output_type": "execute_result"
    }
   ],
   "source": [
    "df.isnull().sum()"
   ]
  },
  {
   "cell_type": "code",
   "execution_count": 10,
   "id": "d068dba7",
   "metadata": {},
   "outputs": [
    {
     "data": {
      "text/plain": [
       "1.0    11096\n",
       "Name: pool, dtype: int64"
      ]
     },
     "execution_count": 10,
     "metadata": {},
     "output_type": "execute_result"
    }
   ],
   "source": [
    "df.pool.value_counts()"
   ]
  },
  {
   "cell_type": "code",
   "execution_count": 12,
   "id": "2578bd28",
   "metadata": {},
   "outputs": [
    {
     "data": {
      "text/plain": [
       "1.0    6031\n",
       "2.0     945\n",
       "3.0     229\n",
       "4.0      35\n",
       "5.0       3\n",
       "Name: fireplace, dtype: int64"
      ]
     },
     "execution_count": 12,
     "metadata": {},
     "output_type": "execute_result"
    }
   ],
   "source": [
    "df.fireplace.value_counts()"
   ]
  },
  {
   "cell_type": "markdown",
   "id": "306294c3",
   "metadata": {},
   "source": [
    "I am going to assume that a null value in the pool and fireplace columns means no pool or fireplace and I will change the data to reflect that. "
   ]
  },
  {
   "cell_type": "code",
   "execution_count": 16,
   "id": "8e0ee6db",
   "metadata": {},
   "outputs": [],
   "source": [
    "df.fireplace = df.fireplace.fillna(value=0)\n",
    "df.pool = df.pool.fillna(value=0)"
   ]
  },
  {
   "cell_type": "code",
   "execution_count": 19,
   "id": "176ef60e",
   "metadata": {},
   "outputs": [
    {
     "data": {
      "text/plain": [
       "0.0    41345\n",
       "1.0    11096\n",
       "Name: pool, dtype: int64"
      ]
     },
     "execution_count": 19,
     "metadata": {},
     "output_type": "execute_result"
    }
   ],
   "source": [
    "df.pool.value_counts()"
   ]
  },
  {
   "cell_type": "code",
   "execution_count": 20,
   "id": "a72493bb",
   "metadata": {},
   "outputs": [
    {
     "data": {
      "text/plain": [
       "0.0    45198\n",
       "1.0     6031\n",
       "2.0      945\n",
       "3.0      229\n",
       "4.0       35\n",
       "5.0        3\n",
       "Name: fireplace, dtype: int64"
      ]
     },
     "execution_count": 20,
     "metadata": {},
     "output_type": "execute_result"
    }
   ],
   "source": [
    "df.fireplace.value_counts()"
   ]
  },
  {
   "cell_type": "code",
   "execution_count": 21,
   "id": "4a522c58",
   "metadata": {},
   "outputs": [
    {
     "data": {
      "text/plain": [
       "bed                  0\n",
       "bath                 0\n",
       "square_feet         82\n",
       "price                1\n",
       "lot_square_feet    369\n",
       "zipcode             26\n",
       "year_built         116\n",
       "pool                 0\n",
       "fireplace            0\n",
       "dtype: int64"
      ]
     },
     "execution_count": 21,
     "metadata": {},
     "output_type": "execute_result"
    }
   ],
   "source": [
    "df.isnull().sum()"
   ]
  },
  {
   "cell_type": "markdown",
   "id": "61fb993f",
   "metadata": {},
   "source": [
    "The remaining data with nulls is very low, so I will just drop them."
   ]
  },
  {
   "cell_type": "code",
   "execution_count": 22,
   "id": "2bb2b273",
   "metadata": {},
   "outputs": [],
   "source": [
    "df = df.dropna()"
   ]
  },
  {
   "cell_type": "code",
   "execution_count": 23,
   "id": "f8764ea3",
   "metadata": {},
   "outputs": [
    {
     "data": {
      "text/plain": [
       "(51953, 9)"
      ]
     },
     "execution_count": 23,
     "metadata": {},
     "output_type": "execute_result"
    }
   ],
   "source": [
    "df.shape"
   ]
  },
  {
   "cell_type": "code",
   "execution_count": 24,
   "id": "c42c1714",
   "metadata": {},
   "outputs": [
    {
     "data": {
      "text/plain": [
       "<function matplotlib.pyplot.show(close=None, block=None)>"
      ]
     },
     "execution_count": 24,
     "metadata": {},
     "output_type": "execute_result"
    },
    {
     "data": {
      "image/png": "[encoded data removed]",
      "text/plain": [
       "<Figure size 1440x576 with 1 Axes>"
      ]
     },
     "metadata": {
      "needs_background": "light"
     },
     "output_type": "display_data"
    }
   ],
   "source": [
    "plt.figure(figsize=(20, 8))\n",
    "df.price.hist(bins=25)\n",
    "plt.show"
   ]
  },
  {
   "cell_type": "code",
   "execution_count": 26,
   "id": "74e5f7ed",
   "metadata": {},
   "outputs": [
    {
     "data": {
      "text/plain": [
       "0.9741112159066849"
      ]
     },
     "execution_count": 26,
     "metadata": {},
     "output_type": "execute_result"
    }
   ],
   "source": [
    "len(df.price[df.price <= 2000000])/len(df)"
   ]
  },
  {
   "cell_type": "code",
   "execution_count": 28,
   "id": "6c34b4b6",
   "metadata": {},
   "outputs": [
    {
     "data": {
      "text/plain": [
       "<function matplotlib.pyplot.show(close=None, block=None)>"
      ]
     },
     "execution_count": 28,
     "metadata": {},
     "output_type": "execute_result"
    },
    {
     "data": {
      "image/png": "[encoded data removed]",
      "text/plain": [
       "<Figure size 864x576 with 1 Axes>"
      ]
     },
     "metadata": {
      "needs_background": "light"
     },
     "output_type": "display_data"
    }
   ],
   "source": [
    "plt.figure(figsize=(12, 8))\n",
    "df.bed.hist(bins=10)\n",
    "plt.show"
   ]
  },
  {
   "cell_type": "code",
   "execution_count": 29,
   "id": "1e36c2b9",
   "metadata": {},
   "outputs": [
    {
     "data": {
      "text/plain": [
       "0.997343753007526"
      ]
     },
     "execution_count": 29,
     "metadata": {},
     "output_type": "execute_result"
    }
   ],
   "source": [
    "len(df.bed[df.bed <= 6])/len(df)"
   ]
  },
  {
   "cell_type": "code",
   "execution_count": 30,
   "id": "ecef4ab4",
   "metadata": {},
   "outputs": [
    {
     "data": {
      "text/plain": [
       "<function matplotlib.pyplot.show(close=None, block=None)>"
      ]
     },
     "execution_count": 30,
     "metadata": {},
     "output_type": "execute_result"
    },
    {
     "data": {
      "image/png": "[encoded data removed]",
      "text/plain": [
       "<Figure size 864x576 with 1 Axes>"
      ]
     },
     "metadata": {
      "needs_background": "light"
     },
     "output_type": "display_data"
    }
   ],
   "source": [
    "plt.figure(figsize=(12, 8))\n",
    "df.bath.hist(bins=8)\n",
    "plt.show"
   ]
  },
  {
   "cell_type": "code",
   "execution_count": 31,
   "id": "def82c88",
   "metadata": {},
   "outputs": [
    {
     "data": {
      "text/plain": [
       "0.9956691625122707"
      ]
     },
     "execution_count": 31,
     "metadata": {},
     "output_type": "execute_result"
    }
   ],
   "source": [
    "len(df.bath[df.bath <= 6])/len(df)"
   ]
  },
  {
   "cell_type": "code",
   "execution_count": 32,
   "id": "56652c0a",
   "metadata": {},
   "outputs": [
    {
     "data": {
      "text/plain": [
       "<function matplotlib.pyplot.show(close=None, block=None)>"
      ]
     },
     "execution_count": 32,
     "metadata": {},
     "output_type": "execute_result"
    },
    {
     "data": {
      "image/png": "[encoded data removed]",
      "text/plain": [
       "<Figure size 864x576 with 1 Axes>"
      ]
     },
     "metadata": {
      "needs_background": "light"
     },
     "output_type": "display_data"
    }
   ],
   "source": [
    "plt.figure(figsize=(12, 8))\n",
    "df.square_feet.hist(bins=10)\n",
    "plt.show"
   ]
  },
  {
   "cell_type": "code",
   "execution_count": 33,
   "id": "81669d3d",
   "metadata": {},
   "outputs": [
    {
     "data": {
      "text/plain": [
       "0.9933016380189786"
      ]
     },
     "execution_count": 33,
     "metadata": {},
     "output_type": "execute_result"
    }
   ],
   "source": [
    "len(df.square_feet[df.square_feet <= 6000])/len(df)"
   ]
  },
  {
   "cell_type": "code",
   "execution_count": 34,
   "id": "99b6a179",
   "metadata": {},
   "outputs": [
    {
     "data": {
      "text/html": [
       "<div>\n",
       "<style scoped>\n",
       "    .dataframe tbody tr th:only-of-type {\n",
       "        vertical-align: middle;\n",
       "    }\n",
       "\n",
       "    .dataframe tbody tr th {\n",
       "        vertical-align: top;\n",
       "    }\n",
       "\n",
       "    .dataframe thead th {\n",
       "        text-align: right;\n",
       "    }\n",
       "</style>\n",
       "<table border=\"1\" class=\"dataframe\">\n",
       "  <thead>\n",
       "    <tr style=\"text-align: right;\">\n",
       "      <th></th>\n",
       "      <th>bed</th>\n",
       "      <th>bath</th>\n",
       "      <th>square_feet</th>\n",
       "      <th>price</th>\n",
       "      <th>lot_square_feet</th>\n",
       "      <th>zipcode</th>\n",
       "      <th>year_built</th>\n",
       "      <th>pool</th>\n",
       "      <th>fireplace</th>\n",
       "    </tr>\n",
       "  </thead>\n",
       "  <tbody>\n",
       "    <tr>\n",
       "      <th>0</th>\n",
       "      <td>4.0</td>\n",
       "      <td>3.5</td>\n",
       "      <td>3100.0</td>\n",
       "      <td>1023282.0</td>\n",
       "      <td>4506.0</td>\n",
       "      <td>96978.0</td>\n",
       "      <td>1998.0</td>\n",
       "      <td>0.0</td>\n",
       "      <td>0.0</td>\n",
       "    </tr>\n",
       "    <tr>\n",
       "      <th>1</th>\n",
       "      <td>2.0</td>\n",
       "      <td>1.0</td>\n",
       "      <td>1465.0</td>\n",
       "      <td>464000.0</td>\n",
       "      <td>12647.0</td>\n",
       "      <td>97099.0</td>\n",
       "      <td>1967.0</td>\n",
       "      <td>0.0</td>\n",
       "      <td>1.0</td>\n",
       "    </tr>\n",
       "    <tr>\n",
       "      <th>2</th>\n",
       "      <td>3.0</td>\n",
       "      <td>2.0</td>\n",
       "      <td>1243.0</td>\n",
       "      <td>564778.0</td>\n",
       "      <td>8432.0</td>\n",
       "      <td>97078.0</td>\n",
       "      <td>1962.0</td>\n",
       "      <td>1.0</td>\n",
       "      <td>0.0</td>\n",
       "    </tr>\n",
       "  </tbody>\n",
       "</table>\n",
       "</div>"
      ],
      "text/plain": [
       "   bed  bath  square_feet      price  lot_square_feet  zipcode  year_built  \\\n",
       "0  4.0   3.5       3100.0  1023282.0           4506.0  96978.0      1998.0   \n",
       "1  2.0   1.0       1465.0   464000.0          12647.0  97099.0      1967.0   \n",
       "2  3.0   2.0       1243.0   564778.0           8432.0  97078.0      1962.0   \n",
       "\n",
       "   pool  fireplace  \n",
       "0   0.0        0.0  \n",
       "1   0.0        1.0  \n",
       "2   1.0        0.0  "
      ]
     },
     "execution_count": 34,
     "metadata": {},
     "output_type": "execute_result"
    }
   ],
   "source": [
    "df.head(3)"
   ]
  },
  {
   "cell_type": "code",
   "execution_count": 38,
   "id": "a2ab3c2e",
   "metadata": {},
   "outputs": [
    {
     "data": {
      "text/plain": [
       "1955.0    1896\n",
       "1950.0    1604\n",
       "1954.0    1516\n",
       "1953.0    1483\n",
       "1956.0    1381\n",
       "          ... \n",
       "1892.0       1\n",
       "1878.0       1\n",
       "1882.0       1\n",
       "1894.0       1\n",
       "1880.0       1\n",
       "Name: year_built, Length: 133, dtype: int64"
      ]
     },
     "execution_count": 38,
     "metadata": {},
     "output_type": "execute_result"
    }
   ],
   "source": [
    "df.year_built.value_counts()"
   ]
  },
  {
   "cell_type": "code",
   "execution_count": 39,
   "id": "f16b318a",
   "metadata": {},
   "outputs": [],
   "source": [
    "df = df[df.bed <= 6]\n",
    "df = df[df.bath <=6]\n",
    "df = df[df.price <= 2000000]\n",
    "df = df[df.square_feet <= 6000]"
   ]
  },
  {
   "cell_type": "code",
   "execution_count": 43,
   "id": "df8e0f19",
   "metadata": {},
   "outputs": [],
   "source": [
    "df = df[df.bed > 0]\n",
    "df = df[df.bath > 0]"
   ]
  },
  {
   "cell_type": "code",
   "execution_count": 44,
   "id": "a3005333",
   "metadata": {},
   "outputs": [
    {
     "data": {
      "text/plain": [
       "(50340, 9)"
      ]
     },
     "execution_count": 44,
     "metadata": {},
     "output_type": "execute_result"
    }
   ],
   "source": [
    "df.shape"
   ]
  },
  {
   "cell_type": "markdown",
   "id": "81d36818",
   "metadata": {},
   "source": [
    "# Explore\n",
    "\n",
    "## Questions:\n",
    "1. Is there a relationship between house square feet and price?\n",
    "2. Are houses with more bedrooms worth more than houses with less rooms?\n",
    "3. Are houses with more bathrooms worth more than houses with less bathrooms\n",
    "4. Do house square feet and plot square feet have the same effect on price?\n",
    "5. Does the age of a house significantly affect the price?\n",
    "6. What are the best predictors of price?"
   ]
  },
  {
   "cell_type": "code",
   "execution_count": 46,
   "id": "7904034f",
   "metadata": {},
   "outputs": [],
   "source": [
    "from sklearn.model_selection import train_test_split"
   ]
  },
  {
   "cell_type": "code",
   "execution_count": 47,
   "id": "8925740a",
   "metadata": {},
   "outputs": [],
   "source": [
    "train, valid_test = train_test_split(df, test_size = 0.3, random_state = 123)\n",
    "\n",
    "validate, test = train_test_split(valid_test, test_size = 0.5, random_state=123)"
   ]
  },
  {
   "cell_type": "code",
   "execution_count": 48,
   "id": "dfd617f1",
   "metadata": {},
   "outputs": [
    {
     "data": {
      "text/plain": [
       "(35238, 9)"
      ]
     },
     "execution_count": 48,
     "metadata": {},
     "output_type": "execute_result"
    }
   ],
   "source": [
    "train.shape"
   ]
  },
  {
   "cell_type": "code",
   "execution_count": 49,
   "id": "f91481fe",
   "metadata": {},
   "outputs": [
    {
     "data": {
      "text/plain": [
       "(7551, 9)"
      ]
     },
     "execution_count": 49,
     "metadata": {},
     "output_type": "execute_result"
    }
   ],
   "source": [
    "validate.shape"
   ]
  },
  {
   "cell_type": "code",
   "execution_count": 50,
   "id": "01947360",
   "metadata": {},
   "outputs": [
    {
     "data": {
      "text/plain": [
       "(7551, 9)"
      ]
     },
     "execution_count": 50,
     "metadata": {},
     "output_type": "execute_result"
    }
   ],
   "source": [
    "test.shape"
   ]
  },
  {
   "cell_type": "code",
   "execution_count": 51,
   "id": "7e5d141c",
   "metadata": {},
   "outputs": [
    {
     "data": {
      "text/plain": [
       "<AxesSubplot:>"
      ]
     },
     "execution_count": 51,
     "metadata": {},
     "output_type": "execute_result"
    },
    {
     "data": {
      "image/png": "[encoded data removed]",
      "text/plain": [
       "<Figure size 432x288 with 1 Axes>"
      ]
     },
     "metadata": {
      "needs_background": "light"
     },
     "output_type": "display_data"
    }
   ],
   "source": [
    "train.price.hist()"
   ]
  },
  {
   "cell_type": "code",
   "execution_count": 52,
   "id": "4924d9ce",
   "metadata": {},
   "outputs": [
    {
     "data": {
      "text/plain": [
       "<AxesSubplot:>"
      ]
     },
     "execution_count": 52,
     "metadata": {},
     "output_type": "execute_result"
    },
    {
     "data": {
      "image/png": "[encoded data removed]",
      "text/plain": [
       "<Figure size 432x288 with 1 Axes>"
      ]
     },
     "metadata": {
      "needs_background": "light"
     },
     "output_type": "display_data"
    }
   ],
   "source": [
    "train.bed.hist(bins=6)"
   ]
  },
  {
   "cell_type": "code",
   "execution_count": 53,
   "id": "2b988671",
   "metadata": {},
   "outputs": [
    {
     "data": {
      "text/plain": [
       "<AxesSubplot:>"
      ]
     },
     "execution_count": 53,
     "metadata": {},
     "output_type": "execute_result"
    },
    {
     "data": {
      "image/png": "[encoded data removed]",
      "text/plain": [
       "<Figure size 432x288 with 1 Axes>"
      ]
     },
     "metadata": {
      "needs_background": "light"
     },
     "output_type": "display_data"
    }
   ],
   "source": [
    "train.bath.hist(bins=6)"
   ]
  },
  {
   "cell_type": "code",
   "execution_count": 54,
   "id": "45c15386",
   "metadata": {},
   "outputs": [
    {
     "data": {
      "text/plain": [
       "<AxesSubplot:>"
      ]
     },
     "execution_count": 54,
     "metadata": {},
     "output_type": "execute_result"
    },
    {
     "data": {
      "image/png": "[encoded data removed]",
      "text/plain": [
       "<Figure size 432x288 with 1 Axes>"
      ]
     },
     "metadata": {
      "needs_background": "light"
     },
     "output_type": "display_data"
    }
   ],
   "source": [
    "train.square_feet.hist()"
   ]
  },
  {
   "cell_type": "code",
   "execution_count": 62,
   "id": "91946f61",
   "metadata": {},
   "outputs": [
    {
     "data": {
      "text/plain": [
       "<AxesSubplot:>"
      ]
     },
     "execution_count": 62,
     "metadata": {},
     "output_type": "execute_result"
    },
    {
     "data": {
      "image/png": "[encoded data removed]",
      "text/plain": [
       "<Figure size 432x288 with 1 Axes>"
      ]
     },
     "metadata": {
      "needs_background": "light"
     },
     "output_type": "display_data"
    }
   ],
   "source": [
    "train.lot_square_feet.hist(bins=4)"
   ]
  },
  {
   "cell_type": "code",
   "execution_count": 65,
   "id": "d2e389a4",
   "metadata": {},
   "outputs": [
    {
     "data": {
      "text/plain": [
       "<AxesSubplot:>"
      ]
     },
     "execution_count": 65,
     "metadata": {},
     "output_type": "execute_result"
    },
    {
     "data": {
      "image/png": "[encoded data removed]",
      "text/plain": [
       "<Figure size 432x288 with 1 Axes>"
      ]
     },
     "metadata": {
      "needs_background": "light"
     },
     "output_type": "display_data"
    }
   ],
   "source": [
    "train.pool.hist()"
   ]
  },
  {
   "cell_type": "code",
   "execution_count": 66,
   "id": "f9527bbf",
   "metadata": {},
   "outputs": [
    {
     "data": {
      "text/plain": [
       "<AxesSubplot:>"
      ]
     },
     "execution_count": 66,
     "metadata": {},
     "output_type": "execute_result"
    },
    {
     "data": {
      "image/png": "[encoded data removed]",
      "text/plain": [
       "<Figure size 432x288 with 1 Axes>"
      ]
     },
     "metadata": {
      "needs_background": "light"
     },
     "output_type": "display_data"
    }
   ],
   "source": [
    "train.fireplace.hist()"
   ]
  },
  {
   "cell_type": "code",
   "execution_count": 67,
   "id": "325fb8f0",
   "metadata": {},
   "outputs": [
    {
     "data": {
      "text/plain": [
       "<seaborn.axisgrid.PairGrid at 0x13f360100>"
      ]
     },
     "execution_count": 67,
     "metadata": {},
     "output_type": "execute_result"
    },
    {
     "data": {
      "image/png": "[encoded data removed]",
      "text/plain": [
       "<Figure size 1620x1620 with 54 Axes>"
      ]
     },
     "metadata": {
      "needs_background": "light"
     },
     "output_type": "display_data"
    }
   ],
   "source": [
    "sns.pairplot(data=train.sample(2000), kind='reg', diag_kind='kde', corner=True)"
   ]
  },
  {
   "cell_type": "code",
   "execution_count": 68,
   "id": "01952a9c",
   "metadata": {},
   "outputs": [
    {
     "data": {
      "text/html": [
       "<div>\n",
       "<style scoped>\n",
       "    .dataframe tbody tr th:only-of-type {\n",
       "        vertical-align: middle;\n",
       "    }\n",
       "\n",
       "    .dataframe tbody tr th {\n",
       "        vertical-align: top;\n",
       "    }\n",
       "\n",
       "    .dataframe thead th {\n",
       "        text-align: right;\n",
       "    }\n",
       "</style>\n",
       "<table border=\"1\" class=\"dataframe\">\n",
       "  <thead>\n",
       "    <tr style=\"text-align: right;\">\n",
       "      <th></th>\n",
       "      <th>bed</th>\n",
       "      <th>bath</th>\n",
       "      <th>square_feet</th>\n",
       "      <th>price</th>\n",
       "      <th>lot_square_feet</th>\n",
       "      <th>zipcode</th>\n",
       "      <th>year_built</th>\n",
       "      <th>pool</th>\n",
       "      <th>fireplace</th>\n",
       "    </tr>\n",
       "  </thead>\n",
       "  <tbody>\n",
       "    <tr>\n",
       "      <th>bed</th>\n",
       "      <td>1.000000</td>\n",
       "      <td>0.628237</td>\n",
       "      <td>0.634059</td>\n",
       "      <td>0.268373</td>\n",
       "      <td>0.005351</td>\n",
       "      <td>0.026109</td>\n",
       "      <td>0.394494</td>\n",
       "      <td>0.235903</td>\n",
       "      <td>0.153395</td>\n",
       "    </tr>\n",
       "    <tr>\n",
       "      <th>bath</th>\n",
       "      <td>0.628237</td>\n",
       "      <td>1.000000</td>\n",
       "      <td>0.830189</td>\n",
       "      <td>0.496660</td>\n",
       "      <td>0.020498</td>\n",
       "      <td>0.029872</td>\n",
       "      <td>0.549718</td>\n",
       "      <td>0.285789</td>\n",
       "      <td>0.155698</td>\n",
       "    </tr>\n",
       "    <tr>\n",
       "      <th>square_feet</th>\n",
       "      <td>0.634059</td>\n",
       "      <td>0.830189</td>\n",
       "      <td>1.000000</td>\n",
       "      <td>0.570500</td>\n",
       "      <td>0.030443</td>\n",
       "      <td>0.024834</td>\n",
       "      <td>0.495675</td>\n",
       "      <td>0.335225</td>\n",
       "      <td>0.198123</td>\n",
       "    </tr>\n",
       "    <tr>\n",
       "      <th>price</th>\n",
       "      <td>0.268373</td>\n",
       "      <td>0.496660</td>\n",
       "      <td>0.570500</td>\n",
       "      <td>1.000000</td>\n",
       "      <td>0.008421</td>\n",
       "      <td>0.009101</td>\n",
       "      <td>0.240597</td>\n",
       "      <td>0.228575</td>\n",
       "      <td>0.120608</td>\n",
       "    </tr>\n",
       "    <tr>\n",
       "      <th>lot_square_feet</th>\n",
       "      <td>0.005351</td>\n",
       "      <td>0.020498</td>\n",
       "      <td>0.030443</td>\n",
       "      <td>0.008421</td>\n",
       "      <td>1.000000</td>\n",
       "      <td>0.005108</td>\n",
       "      <td>0.030957</td>\n",
       "      <td>0.012843</td>\n",
       "      <td>0.003993</td>\n",
       "    </tr>\n",
       "    <tr>\n",
       "      <th>zipcode</th>\n",
       "      <td>0.026109</td>\n",
       "      <td>0.029872</td>\n",
       "      <td>0.024834</td>\n",
       "      <td>0.009101</td>\n",
       "      <td>0.005108</td>\n",
       "      <td>1.000000</td>\n",
       "      <td>0.058881</td>\n",
       "      <td>0.022659</td>\n",
       "      <td>0.025421</td>\n",
       "    </tr>\n",
       "    <tr>\n",
       "      <th>year_built</th>\n",
       "      <td>0.394494</td>\n",
       "      <td>0.549718</td>\n",
       "      <td>0.495675</td>\n",
       "      <td>0.240597</td>\n",
       "      <td>0.030957</td>\n",
       "      <td>0.058881</td>\n",
       "      <td>1.000000</td>\n",
       "      <td>0.110152</td>\n",
       "      <td>0.205840</td>\n",
       "    </tr>\n",
       "    <tr>\n",
       "      <th>pool</th>\n",
       "      <td>0.235903</td>\n",
       "      <td>0.285789</td>\n",
       "      <td>0.335225</td>\n",
       "      <td>0.228575</td>\n",
       "      <td>0.012843</td>\n",
       "      <td>0.022659</td>\n",
       "      <td>0.110152</td>\n",
       "      <td>1.000000</td>\n",
       "      <td>0.095299</td>\n",
       "    </tr>\n",
       "    <tr>\n",
       "      <th>fireplace</th>\n",
       "      <td>0.153395</td>\n",
       "      <td>0.155698</td>\n",
       "      <td>0.198123</td>\n",
       "      <td>0.120608</td>\n",
       "      <td>0.003993</td>\n",
       "      <td>0.025421</td>\n",
       "      <td>0.205840</td>\n",
       "      <td>0.095299</td>\n",
       "      <td>1.000000</td>\n",
       "    </tr>\n",
       "  </tbody>\n",
       "</table>\n",
       "</div>"
      ],
      "text/plain": [
       "                      bed      bath  square_feet     price  lot_square_feet  \\\n",
       "bed              1.000000  0.628237     0.634059  0.268373         0.005351   \n",
       "bath             0.628237  1.000000     0.830189  0.496660         0.020498   \n",
       "square_feet      0.634059  0.830189     1.000000  0.570500         0.030443   \n",
       "price            0.268373  0.496660     0.570500  1.000000         0.008421   \n",
       "lot_square_feet  0.005351  0.020498     0.030443  0.008421         1.000000   \n",
       "zipcode          0.026109  0.029872     0.024834  0.009101         0.005108   \n",
       "year_built       0.394494  0.549718     0.495675  0.240597         0.030957   \n",
       "pool             0.235903  0.285789     0.335225  0.228575         0.012843   \n",
       "fireplace        0.153395  0.155698     0.198123  0.120608         0.003993   \n",
       "\n",
       "                  zipcode  year_built      pool  fireplace  \n",
       "bed              0.026109    0.394494  0.235903   0.153395  \n",
       "bath             0.029872    0.549718  0.285789   0.155698  \n",
       "square_feet      0.024834    0.495675  0.335225   0.198123  \n",
       "price            0.009101    0.240597  0.228575   0.120608  \n",
       "lot_square_feet  0.005108    0.030957  0.012843   0.003993  \n",
       "zipcode          1.000000    0.058881  0.022659   0.025421  \n",
       "year_built       0.058881    1.000000  0.110152   0.205840  \n",
       "pool             0.022659    0.110152  1.000000   0.095299  \n",
       "fireplace        0.025421    0.205840  0.095299   1.000000  "
      ]
     },
     "execution_count": 68,
     "metadata": {},
     "output_type": "execute_result"
    }
   ],
   "source": [
    "train.corr()"
   ]
  },
  {
   "cell_type": "code",
   "execution_count": 72,
   "id": "c2590450",
   "metadata": {},
   "outputs": [
    {
     "data": {
      "image/png": "[encoded data removed]",
      "text/plain": [
       "<Figure size 432x288 with 2 Axes>"
      ]
     },
     "metadata": {
      "needs_background": "light"
     },
     "output_type": "display_data"
    }
   ],
   "source": [
    "sns.heatmap(train.corr(), cmap='Reds', annot=True, linewidth=0.5)\n",
    "plt.show()\n",
    "#mask=np.triu(train.corr()"
   ]
  },
  {
   "cell_type": "markdown",
   "id": "12ba557f",
   "metadata": {},
   "source": [
    "It appears that square feet is most correlated with price, followed by the number of bathrooms, which surprisingly is much more correlated to price than bedrooms."
   ]
  },
  {
   "cell_type": "markdown",
   "id": "582e5b41",
   "metadata": {},
   "source": [
    "## 1. Is there a relationship between square feet and price?"
   ]
  },
  {
   "cell_type": "code",
   "execution_count": 81,
   "id": "9311d165",
   "metadata": {},
   "outputs": [
    {
     "data": {
      "text/plain": [
       "<AxesSubplot:xlabel='square_feet', ylabel='price'>"
      ]
     },
     "execution_count": 81,
     "metadata": {},
     "output_type": "execute_result"
    },
    {
     "data": {
      "image/png": "[encoded data removed]",
      "text/plain": [
       "<Figure size 432x288 with 1 Axes>"
      ]
     },
     "metadata": {
      "needs_background": "light"
     },
     "output_type": "display_data"
    }
   ],
   "source": [
    "sns.regplot(data=train.sample(2000), x='square_feet', y='price', line_kws={'color':'red'})"
   ]
  },
  {
   "cell_type": "code",
   "execution_count": 82,
   "id": "1abd89e1",
   "metadata": {},
   "outputs": [
    {
     "data": {
      "text/plain": [
       "<seaborn.axisgrid.FacetGrid at 0x166577ca0>"
      ]
     },
     "execution_count": 82,
     "metadata": {},
     "output_type": "execute_result"
    },
    {
     "data": {
      "image/png": "[encoded data removed]",
      "text/plain": [
       "<Figure size 360x360 with 1 Axes>"
      ]
     },
     "metadata": {
      "needs_background": "light"
     },
     "output_type": "display_data"
    }
   ],
   "source": [
    "sns.relplot(data=train.sample(2000), x='square_feet', y='price')"
   ]
  },
  {
   "cell_type": "markdown",
   "id": "f41de723",
   "metadata": {},
   "source": [
    "There is a lot of noise, but there does appear to be some sort of relationship between square feet and price, although perhaps not perfectly linear."
   ]
  },
  {
   "cell_type": "code",
   "execution_count": 84,
   "id": "f0d635ef",
   "metadata": {},
   "outputs": [
    {
     "data": {
      "text/plain": [
       "1200.0    81\n",
       "1120.0    77\n",
       "1080.0    71\n",
       "936.0     61\n",
       "1176.0    60\n",
       "          ..\n",
       "3954.0     1\n",
       "5910.0     1\n",
       "326.0      1\n",
       "4026.0     1\n",
       "411.0      1\n",
       "Name: square_feet, Length: 3804, dtype: int64"
      ]
     },
     "execution_count": 84,
     "metadata": {},
     "output_type": "execute_result"
    }
   ],
   "source": [
    "train.square_feet.value_counts()"
   ]
  },
  {
   "cell_type": "markdown",
   "id": "716ee080",
   "metadata": {},
   "source": [
    "### stat test question 1.\n",
    "\n",
    "### Null Hypothesis: There is no correlation between square feet and price. \n",
    "\n",
    "### Alternative Hypothesis: There is a correlation between square feet and price."
   ]
  },
  {
   "cell_type": "code",
   "execution_count": 88,
   "id": "ba7eb5ab",
   "metadata": {},
   "outputs": [
    {
     "data": {
      "text/plain": [
       "(0.4946459832902056, 0.0)"
      ]
     },
     "execution_count": 88,
     "metadata": {},
     "output_type": "execute_result"
    }
   ],
   "source": [
    "# Because both price and square feet are continuous, and because the price data is not normally distributed, I will be using the spearman r test.\n",
    "corr, p = stats.spearmanr(train.square_feet, train.price)\n",
    "corr, p"
   ]
  },
  {
   "cell_type": "markdown",
   "id": "607250e7",
   "metadata": {},
   "source": [
    "Based on the test I can reject the null hypothesis, seeing as how there appears to be a relationship between square feet and price."
   ]
  },
  {
   "cell_type": "markdown",
   "id": "0c0a2059",
   "metadata": {},
   "source": [
    "## 2. Are houses with more bedrooms worth more than houses with less rooms?\n",
    "## Or, Does the number of bedrooms affect the price of a house?\n",
    "\n",
    "### Null Hypothesis: There is no relationship between the number of bedrooms and the price of a house.\n",
    "\n",
    "### Alternative Hypothesis: There is a relationship between the number of bedrooms and the price of a house."
   ]
  },
  {
   "cell_type": "code",
   "execution_count": 89,
   "id": "e8fe9dbe",
   "metadata": {},
   "outputs": [
    {
     "data": {
      "text/plain": [
       "<AxesSubplot:xlabel='bed', ylabel='price'>"
      ]
     },
     "execution_count": 89,
     "metadata": {},
     "output_type": "execute_result"
    },
    {
     "data": {
      "image/png": "[encoded data removed]",
      "text/plain": [
       "<Figure size 432x288 with 1 Axes>"
      ]
     },
     "metadata": {
      "needs_background": "light"
     },
     "output_type": "display_data"
    }
   ],
   "source": [
    "sns.regplot(data=train.sample(2000), x='bed', y='price', line_kws={'color':'red'})"
   ]
  },
  {
   "cell_type": "code",
   "execution_count": 96,
   "id": "a0c2d9a8",
   "metadata": {},
   "outputs": [],
   "source": [
    "alpha = 0.05"
   ]
  },
  {
   "cell_type": "code",
   "execution_count": 97,
   "id": "827a713c",
   "metadata": {},
   "outputs": [
    {
     "data": {
      "text/plain": [
       "(602.9306976143548, 0.0)"
      ]
     },
     "execution_count": 97,
     "metadata": {},
     "output_type": "execute_result"
    }
   ],
   "source": [
    "f, p = stats.f_oneway(train.price[train.bed == 1], train.price[train.bed == 2], train.price[train.bed == 3], train.price[train.bed == 4], train.price[train.bed == 5], train.price[train.bed == 6])\n",
    "f, p"
   ]
  },
  {
   "cell_type": "markdown",
   "id": "11d17b69",
   "metadata": {},
   "source": [
    "Based on the test I can reject the null hypothesis that the number of bedrooms does not affect the price of the house. "
   ]
  },
  {
   "cell_type": "markdown",
   "id": "023e5553",
   "metadata": {},
   "source": [
    "## 3. Are house with more bathrooms worth more than houses with less bathrooms?\n",
    "## Or, Does the number of bathrooms affect the price of a house?\n",
    "\n",
    "### Null Hypothesis: There is no relationship between the number of bathrooms and the price of a house.\n",
    "\n",
    "### Alternative Hypothesis: There is a relationship between the number of bathrooms and the price of a house."
   ]
  },
  {
   "cell_type": "code",
   "execution_count": 98,
   "id": "cf179fe7",
   "metadata": {},
   "outputs": [
    {
     "data": {
      "text/plain": [
       "<AxesSubplot:xlabel='bath', ylabel='price'>"
      ]
     },
     "execution_count": 98,
     "metadata": {},
     "output_type": "execute_result"
    },
    {
     "data": {
      "image/png": "[encoded data removed]",
      "text/plain": [
       "<Figure size 432x288 with 1 Axes>"
      ]
     },
     "metadata": {
      "needs_background": "light"
     },
     "output_type": "display_data"
    }
   ],
   "source": [
    "sns.regplot(data=train.sample(2000), x='bath', y='price', line_kws={'color':'red'})"
   ]
  },
  {
   "cell_type": "code",
   "execution_count": 99,
   "id": "3d424273",
   "metadata": {},
   "outputs": [],
   "source": [
    "alpha = 0.05"
   ]
  },
  {
   "cell_type": "code",
   "execution_count": 100,
   "id": "9bcfa54a",
   "metadata": {},
   "outputs": [
    {
     "data": {
      "text/plain": [
       "(1657.438552369102, 0.0)"
      ]
     },
     "execution_count": 100,
     "metadata": {},
     "output_type": "execute_result"
    }
   ],
   "source": [
    "f, p = stats.f_oneway(train.price[train.bath == 1], train.price[train.bath == 2], train.price[train.bath == 3], train.price[train.bath == 4], train.price[train.bath == 5], train.price[train.bath == 6])\n",
    "f, p"
   ]
  },
  {
   "cell_type": "markdown",
   "id": "43a3d603",
   "metadata": {},
   "source": [
    "Based on the test results I can reject the null hypothesis that there is no relationship between the number of bathrooms and the price of a house."
   ]
  },
  {
   "cell_type": "markdown",
   "id": "d5a4b66e",
   "metadata": {},
   "source": [
    "## 4. Does the age of a house affect price?\n",
    "\n",
    "### Null Hypothesis: There is no relationship between the age of a house and it's price.\n",
    "\n",
    "### Alternative Hypothesis: There is a relationship between the age of a house and it's price."
   ]
  },
  {
   "cell_type": "code",
   "execution_count": 102,
   "id": "ab32add2",
   "metadata": {},
   "outputs": [
    {
     "data": {
      "text/plain": [
       "<AxesSubplot:xlabel='year_built', ylabel='price'>"
      ]
     },
     "execution_count": 102,
     "metadata": {},
     "output_type": "execute_result"
    },
    {
     "data": {
      "image/png": "[encoded data removed]",
      "text/plain": [
       "<Figure size 432x288 with 1 Axes>"
      ]
     },
     "metadata": {
      "needs_background": "light"
     },
     "output_type": "display_data"
    }
   ],
   "source": [
    "sns.regplot(data=train.sample(2000), x='year_built', y='price', line_kws={'color':'red'})"
   ]
  },
  {
   "cell_type": "code",
   "execution_count": 104,
   "id": "c96ff16a",
   "metadata": {},
   "outputs": [
    {
     "data": {
      "text/plain": [
       "<seaborn.axisgrid.FacetGrid at 0x16939a430>"
      ]
     },
     "execution_count": 104,
     "metadata": {},
     "output_type": "execute_result"
    },
    {
     "data": {
      "image/png": "[encoded data removed]",
      "text/plain": [
       "<Figure size 360x360 with 1 Axes>"
      ]
     },
     "metadata": {
      "needs_background": "light"
     },
     "output_type": "display_data"
    }
   ],
   "source": [
    "sns.relplot(data=train.sample(2000), x='year_built', y='price', kind='line')"
   ]
  },
  {
   "cell_type": "markdown",
   "id": "d74f4209",
   "metadata": {},
   "source": [
    "Generally speaking it does appear that as the year built approaches the present time, house prices increase."
   ]
  },
  {
   "cell_type": "code",
   "execution_count": 105,
   "id": "02e282cb",
   "metadata": {},
   "outputs": [
    {
     "data": {
      "text/plain": [
       "(0.2690936037540229, 0.0)"
      ]
     },
     "execution_count": 105,
     "metadata": {},
     "output_type": "execute_result"
    }
   ],
   "source": [
    "corr, p = stats.spearmanr(train.year_built, train.price)\n",
    "corr, p"
   ]
  },
  {
   "cell_type": "markdown",
   "id": "0133c77b",
   "metadata": {},
   "source": [
    "There does appear to be a weak correlation between year built and price, allowing me to reject the null hypothesis."
   ]
  },
  {
   "cell_type": "code",
   "execution_count": 87,
   "id": "f17e8c88",
   "metadata": {},
   "outputs": [],
   "source": [
    "from scipy import stats"
   ]
  },
  {
   "cell_type": "markdown",
   "id": "08891818",
   "metadata": {},
   "source": [
    "Based on the correlation coefficient and the p-value, I reject my null hypothesis that there is no correlation between the number of bathrooms and price. There does appear to be a moderate linear relationship."
   ]
  },
  {
   "cell_type": "markdown",
   "id": "248060a0",
   "metadata": {},
   "source": [
    "There appears to be a weak linear relationship between the number of bedrooms and home price."
   ]
  },
  {
   "cell_type": "code",
   "execution_count": 98,
   "id": "d21406ec",
   "metadata": {},
   "outputs": [
    {
     "data": {
      "image/png": "[encoded data removed]",
      "text/plain": [
       "<Figure size 360x360 with 1 Axes>"
      ]
     },
     "metadata": {
      "needs_background": "light"
     },
     "output_type": "display_data"
    }
   ],
   "source": [
    "sns.lmplot(x='bed', y='price', data=train, line_kws={'color':'red'})\n",
    "plt.show()"
   ]
  },
  {
   "cell_type": "code",
   "execution_count": 94,
   "id": "1cd56613",
   "metadata": {},
   "outputs": [
    {
     "data": {
      "image/png": "[encoded data removed]",
      "text/plain": [
       "<Figure size 360x360 with 1 Axes>"
      ]
     },
     "metadata": {
      "needs_background": "light"
     },
     "output_type": "display_data"
    }
   ],
   "source": [
    "sns.lmplot(x='bath', y='price', data=train, line_kws={'color':'red'})\n",
    "plt.show()"
   ]
  },
  {
   "cell_type": "code",
   "execution_count": 95,
   "id": "4e466fa9",
   "metadata": {},
   "outputs": [
    {
     "data": {
      "image/png": "[encoded data removed]",
      "text/plain": [
       "<Figure size 360x360 with 1 Axes>"
      ]
     },
     "metadata": {
      "needs_background": "light"
     },
     "output_type": "display_data"
    }
   ],
   "source": [
    "sns.lmplot(x='square_feet', y='price', data=train, line_kws={'color':'red'})\n",
    "plt.show()"
   ]
  },
  {
   "cell_type": "code",
   "execution_count": 100,
   "id": "67af27df",
   "metadata": {},
   "outputs": [],
   "source": [
    "#sns.boxplot(x='bed', y='price', data=train)"
   ]
  },
  {
   "cell_type": "markdown",
   "id": "edf43fe6",
   "metadata": {},
   "source": [
    "# Feature Engineering"
   ]
  },
  {
   "cell_type": "code",
   "execution_count": 25,
   "id": "565e33e7",
   "metadata": {},
   "outputs": [
    {
     "data": {
      "text/html": [
       "<div>\n",
       "<style scoped>\n",
       "    .dataframe tbody tr th:only-of-type {\n",
       "        vertical-align: middle;\n",
       "    }\n",
       "\n",
       "    .dataframe tbody tr th {\n",
       "        vertical-align: top;\n",
       "    }\n",
       "\n",
       "    .dataframe thead th {\n",
       "        text-align: right;\n",
       "    }\n",
       "</style>\n",
       "<table border=\"1\" class=\"dataframe\">\n",
       "  <thead>\n",
       "    <tr style=\"text-align: right;\">\n",
       "      <th></th>\n",
       "      <th>bed</th>\n",
       "      <th>bath</th>\n",
       "      <th>square_feet</th>\n",
       "      <th>price</th>\n",
       "    </tr>\n",
       "  </thead>\n",
       "  <tbody>\n",
       "    <tr>\n",
       "      <th>22037</th>\n",
       "      <td>3.0</td>\n",
       "      <td>1.0</td>\n",
       "      <td>1416.0</td>\n",
       "      <td>48620.0</td>\n",
       "    </tr>\n",
       "    <tr>\n",
       "      <th>40038</th>\n",
       "      <td>2.0</td>\n",
       "      <td>2.0</td>\n",
       "      <td>1462.0</td>\n",
       "      <td>285992.0</td>\n",
       "    </tr>\n",
       "    <tr>\n",
       "      <th>36765</th>\n",
       "      <td>3.0</td>\n",
       "      <td>2.0</td>\n",
       "      <td>2086.0</td>\n",
       "      <td>305095.0</td>\n",
       "    </tr>\n",
       "  </tbody>\n",
       "</table>\n",
       "</div>"
      ],
      "text/plain": [
       "       bed  bath  square_feet     price\n",
       "22037  3.0   1.0       1416.0   48620.0\n",
       "40038  2.0   2.0       1462.0  285992.0\n",
       "36765  3.0   2.0       2086.0  305095.0"
      ]
     },
     "execution_count": 25,
     "metadata": {},
     "output_type": "execute_result"
    }
   ],
   "source": [
    "train.head(3)"
   ]
  },
  {
   "cell_type": "code",
   "execution_count": 106,
   "id": "566b9aec",
   "metadata": {},
   "outputs": [],
   "source": [
    "y_train = train.price\n",
    "x_train = train.drop(columns = ['price'])\n",
    "\n",
    "y_validate = validate.price\n",
    "x_validate = validate.drop(columns = ['price'])\n",
    "\n",
    "y_test = test.price\n",
    "x_test = test.drop(columns = ['price'])"
   ]
  },
  {
   "cell_type": "code",
   "execution_count": 107,
   "id": "49728c84",
   "metadata": {},
   "outputs": [],
   "source": [
    "import sklearn.preprocessing"
   ]
  },
  {
   "cell_type": "markdown",
   "id": "28beec5a",
   "metadata": {},
   "source": [
    "### Select K Best"
   ]
  },
  {
   "cell_type": "code",
   "execution_count": 211,
   "id": "8ddd62c3",
   "metadata": {},
   "outputs": [],
   "source": [
    "scaler = sklearn.preprocessing.MinMaxScaler()\n",
    "\n",
    "scaler.fit(x_train)\n",
    "\n",
    "x_train_scaled = scaler.transform(x_train)\n",
    "x_validate_scaled = scaler.transform(x_validate)\n",
    "x_test_scaled = scaler.transform(x_test)"
   ]
  },
  {
   "cell_type": "code",
   "execution_count": 30,
   "id": "cdd761f7",
   "metadata": {},
   "outputs": [],
   "source": [
    "x_train_scaled_df = pd.DataFrame(data = x_train_scaled, columns = ['bed', 'bath', 'square_feet'])"
   ]
  },
  {
   "cell_type": "code",
   "execution_count": 32,
   "id": "953a1892",
   "metadata": {},
   "outputs": [],
   "source": [
    "x_validate_scaled_df = pd.DataFrame(data = x_validate_scaled, columns = ['bed', 'bath', 'square_feet'])\n",
    "x_test_scaled_df = pd.DataFrame(data = x_test_scaled, columns = ['bed', 'bath', 'square_feet'])"
   ]
  },
  {
   "cell_type": "code",
   "execution_count": 109,
   "id": "33c9f70b",
   "metadata": {},
   "outputs": [],
   "source": [
    "from sklearn.feature_selection import SelectKBest, f_regression"
   ]
  },
  {
   "cell_type": "code",
   "execution_count": 190,
   "id": "c07a86a6",
   "metadata": {},
   "outputs": [
    {
     "data": {
      "text/plain": [
       "SelectKBest(k=4, score_func=<function f_regression at 0x16946a1f0>)"
      ]
     },
     "execution_count": 190,
     "metadata": {},
     "output_type": "execute_result"
    }
   ],
   "source": [
    "kbest = SelectKBest(f_regression, k=4)\n",
    "\n",
    "kbest.fit(x_train_scaled, y_train.price)"
   ]
  },
  {
   "cell_type": "code",
   "execution_count": 191,
   "id": "dea41ab6",
   "metadata": {},
   "outputs": [],
   "source": [
    "kbest_results = pd.DataFrame(dict(p=kbest.pvalues_, f=kbest.scores_), index=x_train.columns)"
   ]
  },
  {
   "cell_type": "code",
   "execution_count": 192,
   "id": "4c6767ad",
   "metadata": {},
   "outputs": [
    {
     "data": {
      "text/html": [
       "<div>\n",
       "<style scoped>\n",
       "    .dataframe tbody tr th:only-of-type {\n",
       "        vertical-align: middle;\n",
       "    }\n",
       "\n",
       "    .dataframe tbody tr th {\n",
       "        vertical-align: top;\n",
       "    }\n",
       "\n",
       "    .dataframe thead th {\n",
       "        text-align: right;\n",
       "    }\n",
       "</style>\n",
       "<table border=\"1\" class=\"dataframe\">\n",
       "  <thead>\n",
       "    <tr style=\"text-align: right;\">\n",
       "      <th></th>\n",
       "      <th>p</th>\n",
       "      <th>f</th>\n",
       "    </tr>\n",
       "  </thead>\n",
       "  <tbody>\n",
       "    <tr>\n",
       "      <th>bed</th>\n",
       "      <td>0.000000e+00</td>\n",
       "      <td>2734.808056</td>\n",
       "    </tr>\n",
       "    <tr>\n",
       "      <th>bath</th>\n",
       "      <td>0.000000e+00</td>\n",
       "      <td>11537.734892</td>\n",
       "    </tr>\n",
       "    <tr>\n",
       "      <th>square_feet</th>\n",
       "      <td>0.000000e+00</td>\n",
       "      <td>17001.894530</td>\n",
       "    </tr>\n",
       "    <tr>\n",
       "      <th>lot_square_feet</th>\n",
       "      <td>1.139272e-01</td>\n",
       "      <td>2.499005</td>\n",
       "    </tr>\n",
       "    <tr>\n",
       "      <th>zipcode</th>\n",
       "      <td>8.755571e-02</td>\n",
       "      <td>2.918911</td>\n",
       "    </tr>\n",
       "    <tr>\n",
       "      <th>year_built</th>\n",
       "      <td>0.000000e+00</td>\n",
       "      <td>2165.034881</td>\n",
       "    </tr>\n",
       "    <tr>\n",
       "      <th>pool</th>\n",
       "      <td>0.000000e+00</td>\n",
       "      <td>1942.453232</td>\n",
       "    </tr>\n",
       "    <tr>\n",
       "      <th>fireplace</th>\n",
       "      <td>2.687379e-114</td>\n",
       "      <td>520.118817</td>\n",
       "    </tr>\n",
       "  </tbody>\n",
       "</table>\n",
       "</div>"
      ],
      "text/plain": [
       "                             p             f\n",
       "bed               0.000000e+00   2734.808056\n",
       "bath              0.000000e+00  11537.734892\n",
       "square_feet       0.000000e+00  17001.894530\n",
       "lot_square_feet   1.139272e-01      2.499005\n",
       "zipcode           8.755571e-02      2.918911\n",
       "year_built        0.000000e+00   2165.034881\n",
       "pool              0.000000e+00   1942.453232\n",
       "fireplace        2.687379e-114    520.118817"
      ]
     },
     "execution_count": 192,
     "metadata": {},
     "output_type": "execute_result"
    }
   ],
   "source": [
    "kbest_results"
   ]
  },
  {
   "cell_type": "code",
   "execution_count": 128,
   "id": "4fb19ab9",
   "metadata": {},
   "outputs": [
    {
     "data": {
      "text/plain": [
       "Index(['bed', 'bath', 'square_feet', 'year_built'], dtype='object')"
      ]
     },
     "execution_count": 128,
     "metadata": {},
     "output_type": "execute_result"
    }
   ],
   "source": [
    "x_train.columns[kbest.get_support()]"
   ]
  },
  {
   "cell_type": "code",
   "execution_count": 186,
   "id": "93d815f0",
   "metadata": {},
   "outputs": [],
   "source": [
    "# Robust Scaler process"
   ]
  },
  {
   "cell_type": "code",
   "execution_count": 217,
   "id": "69b804ef",
   "metadata": {},
   "outputs": [],
   "source": [
    "scaler = sklearn.preprocessing.RobustScaler()\n",
    "\n",
    "scaler.fit(x_train)\n",
    "\n",
    "x_train_robust = scaler.transform(x_train)\n",
    "x_validate_robust = scaler.transform(x_validate)\n",
    "x_test_robust = scaler.transform(x_test)"
   ]
  },
  {
   "cell_type": "code",
   "execution_count": 218,
   "id": "a819eb46",
   "metadata": {},
   "outputs": [
    {
     "data": {
      "text/plain": [
       "SelectKBest(k=4, score_func=<function f_regression at 0x16946a1f0>)"
      ]
     },
     "execution_count": 218,
     "metadata": {},
     "output_type": "execute_result"
    }
   ],
   "source": [
    "kbest = SelectKBest(f_regression, k=4)\n",
    "\n",
    "kbest.fit(x_train_robust, y_train.price)"
   ]
  },
  {
   "cell_type": "code",
   "execution_count": 219,
   "id": "c2e5d88a",
   "metadata": {},
   "outputs": [
    {
     "data": {
      "text/html": [
       "<div>\n",
       "<style scoped>\n",
       "    .dataframe tbody tr th:only-of-type {\n",
       "        vertical-align: middle;\n",
       "    }\n",
       "\n",
       "    .dataframe tbody tr th {\n",
       "        vertical-align: top;\n",
       "    }\n",
       "\n",
       "    .dataframe thead th {\n",
       "        text-align: right;\n",
       "    }\n",
       "</style>\n",
       "<table border=\"1\" class=\"dataframe\">\n",
       "  <thead>\n",
       "    <tr style=\"text-align: right;\">\n",
       "      <th></th>\n",
       "      <th>p</th>\n",
       "      <th>f</th>\n",
       "    </tr>\n",
       "  </thead>\n",
       "  <tbody>\n",
       "    <tr>\n",
       "      <th>bed</th>\n",
       "      <td>0.000000e+00</td>\n",
       "      <td>2734.808056</td>\n",
       "    </tr>\n",
       "    <tr>\n",
       "      <th>bath</th>\n",
       "      <td>0.000000e+00</td>\n",
       "      <td>11537.734892</td>\n",
       "    </tr>\n",
       "    <tr>\n",
       "      <th>square_feet</th>\n",
       "      <td>0.000000e+00</td>\n",
       "      <td>17001.894530</td>\n",
       "    </tr>\n",
       "    <tr>\n",
       "      <th>lot_square_feet</th>\n",
       "      <td>1.139272e-01</td>\n",
       "      <td>2.499005</td>\n",
       "    </tr>\n",
       "    <tr>\n",
       "      <th>zipcode</th>\n",
       "      <td>8.755571e-02</td>\n",
       "      <td>2.918911</td>\n",
       "    </tr>\n",
       "    <tr>\n",
       "      <th>year_built</th>\n",
       "      <td>0.000000e+00</td>\n",
       "      <td>2165.034881</td>\n",
       "    </tr>\n",
       "    <tr>\n",
       "      <th>pool</th>\n",
       "      <td>0.000000e+00</td>\n",
       "      <td>1942.453232</td>\n",
       "    </tr>\n",
       "    <tr>\n",
       "      <th>fireplace</th>\n",
       "      <td>2.687379e-114</td>\n",
       "      <td>520.118817</td>\n",
       "    </tr>\n",
       "  </tbody>\n",
       "</table>\n",
       "</div>"
      ],
      "text/plain": [
       "                             p             f\n",
       "bed               0.000000e+00   2734.808056\n",
       "bath              0.000000e+00  11537.734892\n",
       "square_feet       0.000000e+00  17001.894530\n",
       "lot_square_feet   1.139272e-01      2.499005\n",
       "zipcode           8.755571e-02      2.918911\n",
       "year_built        0.000000e+00   2165.034881\n",
       "pool              0.000000e+00   1942.453232\n",
       "fireplace        2.687379e-114    520.118817"
      ]
     },
     "execution_count": 219,
     "metadata": {},
     "output_type": "execute_result"
    }
   ],
   "source": [
    "kbest_results"
   ]
  },
  {
   "cell_type": "code",
   "execution_count": 222,
   "id": "7ec70454",
   "metadata": {},
   "outputs": [
    {
     "data": {
      "text/html": [
       "<div>\n",
       "<style scoped>\n",
       "    .dataframe tbody tr th:only-of-type {\n",
       "        vertical-align: middle;\n",
       "    }\n",
       "\n",
       "    .dataframe tbody tr th {\n",
       "        vertical-align: top;\n",
       "    }\n",
       "\n",
       "    .dataframe thead th {\n",
       "        text-align: right;\n",
       "    }\n",
       "</style>\n",
       "<table border=\"1\" class=\"dataframe\">\n",
       "  <thead>\n",
       "    <tr style=\"text-align: right;\">\n",
       "      <th></th>\n",
       "      <th>bed</th>\n",
       "      <th>bath</th>\n",
       "      <th>square_feet</th>\n",
       "      <th>lot_square_feet</th>\n",
       "      <th>zipcode</th>\n",
       "      <th>year_built</th>\n",
       "      <th>pool</th>\n",
       "      <th>fireplace</th>\n",
       "    </tr>\n",
       "  </thead>\n",
       "  <tbody>\n",
       "    <tr>\n",
       "      <th>49316</th>\n",
       "      <td>3.0</td>\n",
       "      <td>2.0</td>\n",
       "      <td>1714.0</td>\n",
       "      <td>25511.0</td>\n",
       "      <td>97118.0</td>\n",
       "      <td>1978.0</td>\n",
       "      <td>0.0</td>\n",
       "      <td>1.0</td>\n",
       "    </tr>\n",
       "    <tr>\n",
       "      <th>50671</th>\n",
       "      <td>3.0</td>\n",
       "      <td>2.0</td>\n",
       "      <td>1118.0</td>\n",
       "      <td>7506.0</td>\n",
       "      <td>96524.0</td>\n",
       "      <td>1951.0</td>\n",
       "      <td>0.0</td>\n",
       "      <td>0.0</td>\n",
       "    </tr>\n",
       "  </tbody>\n",
       "</table>\n",
       "</div>"
      ],
      "text/plain": [
       "       bed  bath  square_feet  lot_square_feet  zipcode  year_built  pool  \\\n",
       "49316  3.0   2.0       1714.0          25511.0  97118.0      1978.0   0.0   \n",
       "50671  3.0   2.0       1118.0           7506.0  96524.0      1951.0   0.0   \n",
       "\n",
       "       fireplace  \n",
       "49316        1.0  \n",
       "50671        0.0  "
      ]
     },
     "execution_count": 222,
     "metadata": {},
     "output_type": "execute_result"
    }
   ],
   "source": [
    "x_train.head(2)"
   ]
  },
  {
   "cell_type": "code",
   "execution_count": 224,
   "id": "f79f5757",
   "metadata": {},
   "outputs": [],
   "source": [
    "x_train_1st = x_train.drop(columns=['lot_square_feet', 'zipcode', 'year_built', 'pool', 'fireplace'])"
   ]
  },
  {
   "cell_type": "code",
   "execution_count": 253,
   "id": "1771cc8e",
   "metadata": {},
   "outputs": [],
   "source": [
    "x_validate_1st = x_validate.drop(columns=['lot_square_feet', 'zipcode', 'year_built', 'pool', 'fireplace'])\n",
    "x_test_1st = x_test.drop(columns=['lot_square_feet', 'zipcode', 'year_built', 'pool', 'fireplace'])"
   ]
  },
  {
   "cell_type": "code",
   "execution_count": 254,
   "id": "54c43102",
   "metadata": {},
   "outputs": [],
   "source": [
    "scaler = sklearn.preprocessing.RobustScaler()\n",
    "\n",
    "scaler.fit(x_train_1st)\n",
    "\n",
    "x_train_1st_robust = scaler.transform(x_train_1st)\n",
    "x_validate_1st_robust = scaler.transform(x_validate_1st)\n",
    "x_test_1st_robust = scaler.transform(x_test_1st)"
   ]
  },
  {
   "cell_type": "markdown",
   "id": "3de77b96",
   "metadata": {},
   "source": [
    "### RFE"
   ]
  },
  {
   "cell_type": "code",
   "execution_count": 129,
   "id": "83142b69",
   "metadata": {},
   "outputs": [],
   "source": [
    "from sklearn.linear_model import LinearRegression\n",
    "from sklearn.feature_selection import RFE, f_regression, SequentialFeatureSelector"
   ]
  },
  {
   "cell_type": "code",
   "execution_count": 131,
   "id": "e86544a6",
   "metadata": {},
   "outputs": [
    {
     "data": {
      "text/plain": [
       "RFE(estimator=LinearRegression(), n_features_to_select=4)"
      ]
     },
     "execution_count": 131,
     "metadata": {},
     "output_type": "execute_result"
    }
   ],
   "source": [
    "model = LinearRegression()\n",
    "rfe = RFE(model, n_features_to_select = 4)\n",
    "rfe.fit(x_train_scaled, y_train)"
   ]
  },
  {
   "cell_type": "code",
   "execution_count": 133,
   "id": "6d3c4c76",
   "metadata": {},
   "outputs": [],
   "source": [
    "# x_train_scaled.columns[rfe.get_support()]"
   ]
  },
  {
   "cell_type": "code",
   "execution_count": 134,
   "id": "437685c7",
   "metadata": {},
   "outputs": [],
   "source": [
    "var_ranks = rfe.ranking_"
   ]
  },
  {
   "cell_type": "code",
   "execution_count": 136,
   "id": "689916c6",
   "metadata": {},
   "outputs": [],
   "source": [
    "var_names = x_train.columns.tolist()"
   ]
  },
  {
   "cell_type": "code",
   "execution_count": 137,
   "id": "a2a4c6fe",
   "metadata": {},
   "outputs": [
    {
     "data": {
      "text/plain": [
       "['bed',\n",
       " 'bath',\n",
       " 'square_feet',\n",
       " 'lot_square_feet',\n",
       " 'zipcode',\n",
       " 'year_built',\n",
       " 'pool',\n",
       " 'fireplace']"
      ]
     },
     "execution_count": 137,
     "metadata": {},
     "output_type": "execute_result"
    }
   ],
   "source": [
    "var_names"
   ]
  },
  {
   "cell_type": "code",
   "execution_count": 138,
   "id": "42afb394",
   "metadata": {},
   "outputs": [],
   "source": [
    "rfe_ranks_df = pd.DataFrame({'Var':var_names, 'Rank':var_ranks})"
   ]
  },
  {
   "cell_type": "code",
   "execution_count": 139,
   "id": "39d845f1",
   "metadata": {},
   "outputs": [
    {
     "data": {
      "text/html": [
       "<div>\n",
       "<style scoped>\n",
       "    .dataframe tbody tr th:only-of-type {\n",
       "        vertical-align: middle;\n",
       "    }\n",
       "\n",
       "    .dataframe tbody tr th {\n",
       "        vertical-align: top;\n",
       "    }\n",
       "\n",
       "    .dataframe thead th {\n",
       "        text-align: right;\n",
       "    }\n",
       "</style>\n",
       "<table border=\"1\" class=\"dataframe\">\n",
       "  <thead>\n",
       "    <tr style=\"text-align: right;\">\n",
       "      <th></th>\n",
       "      <th>Var</th>\n",
       "      <th>Rank</th>\n",
       "    </tr>\n",
       "  </thead>\n",
       "  <tbody>\n",
       "    <tr>\n",
       "      <th>0</th>\n",
       "      <td>bed</td>\n",
       "      <td>1</td>\n",
       "    </tr>\n",
       "    <tr>\n",
       "      <th>1</th>\n",
       "      <td>bath</td>\n",
       "      <td>1</td>\n",
       "    </tr>\n",
       "    <tr>\n",
       "      <th>2</th>\n",
       "      <td>square_feet</td>\n",
       "      <td>1</td>\n",
       "    </tr>\n",
       "    <tr>\n",
       "      <th>3</th>\n",
       "      <td>lot_square_feet</td>\n",
       "      <td>1</td>\n",
       "    </tr>\n",
       "    <tr>\n",
       "      <th>5</th>\n",
       "      <td>year_built</td>\n",
       "      <td>2</td>\n",
       "    </tr>\n",
       "    <tr>\n",
       "      <th>7</th>\n",
       "      <td>fireplace</td>\n",
       "      <td>3</td>\n",
       "    </tr>\n",
       "    <tr>\n",
       "      <th>4</th>\n",
       "      <td>zipcode</td>\n",
       "      <td>4</td>\n",
       "    </tr>\n",
       "    <tr>\n",
       "      <th>6</th>\n",
       "      <td>pool</td>\n",
       "      <td>5</td>\n",
       "    </tr>\n",
       "  </tbody>\n",
       "</table>\n",
       "</div>"
      ],
      "text/plain": [
       "               Var  Rank\n",
       "0              bed     1\n",
       "1             bath     1\n",
       "2      square_feet     1\n",
       "3  lot_square_feet     1\n",
       "5       year_built     2\n",
       "7        fireplace     3\n",
       "4          zipcode     4\n",
       "6             pool     5"
      ]
     },
     "execution_count": 139,
     "metadata": {},
     "output_type": "execute_result"
    }
   ],
   "source": [
    "rfe_ranks_df.sort_values('Rank')"
   ]
  },
  {
   "cell_type": "markdown",
   "id": "2e7fc1b1",
   "metadata": {},
   "source": [
    "# Modeling"
   ]
  },
  {
   "cell_type": "code",
   "execution_count": 145,
   "id": "a11beab2",
   "metadata": {},
   "outputs": [],
   "source": [
    "from sklearn.metrics import mean_squared_error\n",
    "from sklearn.linear_model import LinearRegression, LassoLars, TweedieRegressor\n",
    "from sklearn.preprocessing import PolynomialFeatures"
   ]
  },
  {
   "cell_type": "markdown",
   "id": "77ef4543",
   "metadata": {},
   "source": [
    "### Baseline"
   ]
  },
  {
   "cell_type": "code",
   "execution_count": 140,
   "id": "6c3e3d1c",
   "metadata": {},
   "outputs": [
    {
     "data": {
      "text/plain": [
       "442804.77603723254"
      ]
     },
     "execution_count": 140,
     "metadata": {},
     "output_type": "execute_result"
    }
   ],
   "source": [
    "y_train.mean()"
   ]
  },
  {
   "cell_type": "code",
   "execution_count": 141,
   "id": "4af1fd6a",
   "metadata": {},
   "outputs": [],
   "source": [
    "y_train = pd.DataFrame(y_train)\n",
    "y_validate = pd.DataFrame(y_validate)"
   ]
  },
  {
   "cell_type": "code",
   "execution_count": 142,
   "id": "6feab65e",
   "metadata": {},
   "outputs": [],
   "source": [
    "y_train['baseline'] = y_train.price.mean()\n",
    "y_validate['baseline'] = y_validate.price.mean()"
   ]
  },
  {
   "cell_type": "code",
   "execution_count": 143,
   "id": "9969d00c",
   "metadata": {},
   "outputs": [
    {
     "data": {
      "text/html": [
       "<div>\n",
       "<style scoped>\n",
       "    .dataframe tbody tr th:only-of-type {\n",
       "        vertical-align: middle;\n",
       "    }\n",
       "\n",
       "    .dataframe tbody tr th {\n",
       "        vertical-align: top;\n",
       "    }\n",
       "\n",
       "    .dataframe thead th {\n",
       "        text-align: right;\n",
       "    }\n",
       "</style>\n",
       "<table border=\"1\" class=\"dataframe\">\n",
       "  <thead>\n",
       "    <tr style=\"text-align: right;\">\n",
       "      <th></th>\n",
       "      <th>price</th>\n",
       "      <th>baseline</th>\n",
       "    </tr>\n",
       "  </thead>\n",
       "  <tbody>\n",
       "    <tr>\n",
       "      <th>49316</th>\n",
       "      <td>692000.0</td>\n",
       "      <td>442804.776037</td>\n",
       "    </tr>\n",
       "    <tr>\n",
       "      <th>50671</th>\n",
       "      <td>345767.0</td>\n",
       "      <td>442804.776037</td>\n",
       "    </tr>\n",
       "  </tbody>\n",
       "</table>\n",
       "</div>"
      ],
      "text/plain": [
       "          price       baseline\n",
       "49316  692000.0  442804.776037\n",
       "50671  345767.0  442804.776037"
      ]
     },
     "execution_count": 143,
     "metadata": {},
     "output_type": "execute_result"
    }
   ],
   "source": [
    "y_train.head(2)"
   ]
  },
  {
   "cell_type": "code",
   "execution_count": 146,
   "id": "da5da5a2",
   "metadata": {},
   "outputs": [],
   "source": [
    "rmse_train = mean_squared_error(y_train.price, y_train.baseline)**(1/2)\n",
    "rmse_validate = mean_squared_error(y_validate.price, y_validate.baseline)**(1/2)"
   ]
  },
  {
   "cell_type": "code",
   "execution_count": 147,
   "id": "5591d8be",
   "metadata": {},
   "outputs": [
    {
     "data": {
      "text/plain": [
       "352181.7661389873"
      ]
     },
     "execution_count": 147,
     "metadata": {},
     "output_type": "execute_result"
    }
   ],
   "source": [
    "rmse_train"
   ]
  },
  {
   "cell_type": "code",
   "execution_count": 148,
   "id": "07cb7d22",
   "metadata": {},
   "outputs": [
    {
     "data": {
      "text/plain": [
       "355365.5610374661"
      ]
     },
     "execution_count": 148,
     "metadata": {},
     "output_type": "execute_result"
    }
   ],
   "source": [
    "rmse_validate"
   ]
  },
  {
   "cell_type": "code",
   "execution_count": 160,
   "id": "8d893f38",
   "metadata": {},
   "outputs": [
    {
     "data": {
      "text/html": [
       "<div>\n",
       "<style scoped>\n",
       "    .dataframe tbody tr th:only-of-type {\n",
       "        vertical-align: middle;\n",
       "    }\n",
       "\n",
       "    .dataframe tbody tr th {\n",
       "        vertical-align: top;\n",
       "    }\n",
       "\n",
       "    .dataframe thead th {\n",
       "        text-align: right;\n",
       "    }\n",
       "</style>\n",
       "<table border=\"1\" class=\"dataframe\">\n",
       "  <thead>\n",
       "    <tr style=\"text-align: right;\">\n",
       "      <th></th>\n",
       "      <th>bed</th>\n",
       "      <th>bath</th>\n",
       "      <th>square_feet</th>\n",
       "      <th>lot_square_feet</th>\n",
       "      <th>zipcode</th>\n",
       "      <th>year_built</th>\n",
       "      <th>pool</th>\n",
       "      <th>fireplace</th>\n",
       "    </tr>\n",
       "  </thead>\n",
       "  <tbody>\n",
       "    <tr>\n",
       "      <th>49316</th>\n",
       "      <td>3.0</td>\n",
       "      <td>2.0</td>\n",
       "      <td>1714.0</td>\n",
       "      <td>25511.0</td>\n",
       "      <td>97118.0</td>\n",
       "      <td>1978.0</td>\n",
       "      <td>0.0</td>\n",
       "      <td>1.0</td>\n",
       "    </tr>\n",
       "    <tr>\n",
       "      <th>50671</th>\n",
       "      <td>3.0</td>\n",
       "      <td>2.0</td>\n",
       "      <td>1118.0</td>\n",
       "      <td>7506.0</td>\n",
       "      <td>96524.0</td>\n",
       "      <td>1951.0</td>\n",
       "      <td>0.0</td>\n",
       "      <td>0.0</td>\n",
       "    </tr>\n",
       "  </tbody>\n",
       "</table>\n",
       "</div>"
      ],
      "text/plain": [
       "       bed  bath  square_feet  lot_square_feet  zipcode  year_built  pool  \\\n",
       "49316  3.0   2.0       1714.0          25511.0  97118.0      1978.0   0.0   \n",
       "50671  3.0   2.0       1118.0           7506.0  96524.0      1951.0   0.0   \n",
       "\n",
       "       fireplace  \n",
       "49316        1.0  \n",
       "50671        0.0  "
      ]
     },
     "execution_count": 160,
     "metadata": {},
     "output_type": "execute_result"
    }
   ],
   "source": [
    "x_train.head(2)"
   ]
  },
  {
   "cell_type": "code",
   "execution_count": 161,
   "id": "5ce3dae6",
   "metadata": {},
   "outputs": [],
   "source": [
    "x_train_model = pd.DataFrame(x_train_scaled, columns=['bed', 'bath', 'square_feet', 'lot_square_feet', 'zipcode', 'year_built', 'pool', 'fireplace'])"
   ]
  },
  {
   "cell_type": "code",
   "execution_count": 163,
   "id": "47e889f8",
   "metadata": {},
   "outputs": [],
   "source": [
    "x_train_model = x_train_model.drop(columns = ['lot_square_feet', 'fireplace', 'pool', 'zipcode'])"
   ]
  },
  {
   "cell_type": "code",
   "execution_count": 164,
   "id": "915bfb55",
   "metadata": {},
   "outputs": [
    {
     "data": {
      "text/plain": [
       "Index(['bed', 'bath', 'square_feet', 'year_built'], dtype='object')"
      ]
     },
     "execution_count": 164,
     "metadata": {},
     "output_type": "execute_result"
    }
   ],
   "source": [
    "x_train_model.columns"
   ]
  },
  {
   "cell_type": "code",
   "execution_count": 172,
   "id": "2c98ed85",
   "metadata": {},
   "outputs": [],
   "source": [
    "x_validate_model = pd.DataFrame(x_validate_scaled, columns=['bed', 'bath', 'square_feet', 'lot_square_feet', 'zipcode', 'year_built', 'pool', 'fireplace'])\n",
    "x_validate_model = x_validate_model.drop(columns = ['lot_square_feet', 'fireplace', 'pool', 'zipcode'])"
   ]
  },
  {
   "cell_type": "markdown",
   "id": "cd0b809b",
   "metadata": {},
   "source": [
    "### Linear Regression (OLS)"
   ]
  },
  {
   "cell_type": "code",
   "execution_count": null,
   "id": "907ab83c",
   "metadata": {},
   "outputs": [],
   "source": [
    "# Original model with three features"
   ]
  },
  {
   "cell_type": "code",
   "execution_count": 166,
   "id": "8089cac0",
   "metadata": {},
   "outputs": [],
   "source": [
    "lm = LinearRegression(normalize=True)"
   ]
  },
  {
   "cell_type": "code",
   "execution_count": 167,
   "id": "056d8034",
   "metadata": {},
   "outputs": [
    {
     "data": {
      "text/plain": [
       "LinearRegression(normalize=True)"
      ]
     },
     "execution_count": 167,
     "metadata": {},
     "output_type": "execute_result"
    }
   ],
   "source": [
    "lm.fit(x_train_scaled, y_train.price)"
   ]
  },
  {
   "cell_type": "code",
   "execution_count": 151,
   "id": "d1f0296a",
   "metadata": {},
   "outputs": [],
   "source": [
    "y_train['price_pred_lm'] = lm.predict(x_train_scaled)"
   ]
  },
  {
   "cell_type": "code",
   "execution_count": 152,
   "id": "791d5e08",
   "metadata": {},
   "outputs": [],
   "source": [
    "rmse_train = mean_squared_error(y_train.price, y_train.price_pred_lm)**(1/2)"
   ]
  },
  {
   "cell_type": "code",
   "execution_count": 153,
   "id": "36687dc8",
   "metadata": {},
   "outputs": [],
   "source": [
    "y_validate['price_pred_lm'] = lm.predict(x_validate_scaled)"
   ]
  },
  {
   "cell_type": "code",
   "execution_count": 83,
   "id": "0708df33",
   "metadata": {},
   "outputs": [],
   "source": [
    "rmse_validate = mean_squared_error(y_validate.price, y_validate.price_pred_lm)**(1/2)"
   ]
  },
  {
   "cell_type": "code",
   "execution_count": 84,
   "id": "c25a4211",
   "metadata": {},
   "outputs": [
    {
     "name": "stdout",
     "output_type": "stream",
     "text": [
      "RMSE for OLS using LinearRegression\n",
      "Training/In-Sample:  285566.56875731796 \n",
      "Validation/Out-of-Sample:  286649.5781407932\n"
     ]
    }
   ],
   "source": [
    "print(\"RMSE for OLS using LinearRegression\\nTraining/In-Sample: \", rmse_train, \n",
    "      \"\\nValidation/Out-of-Sample: \", rmse_validate)"
   ]
  },
  {
   "cell_type": "code",
   "execution_count": null,
   "id": "cf382a98",
   "metadata": {},
   "outputs": [],
   "source": []
  },
  {
   "cell_type": "code",
   "execution_count": 165,
   "id": "b068f7b1",
   "metadata": {},
   "outputs": [],
   "source": [
    "# New model with four features"
   ]
  },
  {
   "cell_type": "code",
   "execution_count": 168,
   "id": "92a576be",
   "metadata": {},
   "outputs": [],
   "source": [
    "lm = LinearRegression(normalize=True)"
   ]
  },
  {
   "cell_type": "code",
   "execution_count": 169,
   "id": "cd16e8d9",
   "metadata": {},
   "outputs": [
    {
     "data": {
      "text/plain": [
       "LinearRegression(normalize=True)"
      ]
     },
     "execution_count": 169,
     "metadata": {},
     "output_type": "execute_result"
    }
   ],
   "source": [
    "lm.fit(x_train_model, y_train.price)"
   ]
  },
  {
   "cell_type": "code",
   "execution_count": 177,
   "id": "a9b7aef8",
   "metadata": {},
   "outputs": [],
   "source": [
    "y_train['price_pred_lm2'] = lm.predict(x_train_model)\n",
    "rmse_train = mean_squared_error(y_train.price, y_train.price_pred_lm2)**(1/2)\n",
    "\n",
    "y_validate['price_pred_lm2'] = lm.predict(x_validate_model)\n",
    "rmse_validate = mean_squared_error(y_validate.price, y_validate.price_pred_lm2)**(1/2)"
   ]
  },
  {
   "cell_type": "code",
   "execution_count": 178,
   "id": "2a985b8e",
   "metadata": {},
   "outputs": [
    {
     "name": "stdout",
     "output_type": "stream",
     "text": [
      "RMSE for OLS using LinearRegression\n",
      "Training/In-Sample:  284308.63195880473 \n",
      "Validation/Out-of-Sample:  287750.0910490834\n"
     ]
    }
   ],
   "source": [
    "print(\"RMSE for OLS using LinearRegression\\nTraining/In-Sample: \", rmse_train, \n",
    "      \"\\nValidation/Out-of-Sample: \", rmse_validate)"
   ]
  },
  {
   "cell_type": "code",
   "execution_count": 195,
   "id": "1f1e5938",
   "metadata": {},
   "outputs": [],
   "source": [
    "# New model using Robust Scaler"
   ]
  },
  {
   "cell_type": "code",
   "execution_count": 239,
   "id": "f8fa89a8",
   "metadata": {},
   "outputs": [
    {
     "data": {
      "text/plain": [
       "LinearRegression(normalize=True)"
      ]
     },
     "execution_count": 239,
     "metadata": {},
     "output_type": "execute_result"
    }
   ],
   "source": [
    "lm = LinearRegression(normalize=True)\n",
    "lm.fit(x_train_robust, y_train.price)"
   ]
  },
  {
   "cell_type": "code",
   "execution_count": 240,
   "id": "831b74cf",
   "metadata": {},
   "outputs": [],
   "source": [
    "y_train['price_pred_lm2_robust'] = lm.predict(x_train_robust)\n",
    "rmse_train = mean_squared_error(y_train.price, y_train.price_pred_lm2_robust)**(1/2)\n",
    "\n",
    "y_validate['price_pred_lm2_robust'] = lm.predict(x_validate_robust)\n",
    "rmse_validate = mean_squared_error(y_validate.price, y_validate.price_pred_lm2_robust)**(1/2)"
   ]
  },
  {
   "cell_type": "code",
   "execution_count": 241,
   "id": "f1606406",
   "metadata": {},
   "outputs": [
    {
     "name": "stdout",
     "output_type": "stream",
     "text": [
      "RMSE for OLS using LinearRegression\n",
      "Training/In-Sample:  283869.42218233045 \n",
      "Validation/Out-of-Sample:  287348.520744239\n"
     ]
    }
   ],
   "source": [
    "print(\"RMSE for OLS using LinearRegression\\nTraining/In-Sample: \", rmse_train, \n",
    "      \"\\nValidation/Out-of-Sample: \", rmse_validate)"
   ]
  },
  {
   "cell_type": "code",
   "execution_count": 229,
   "id": "017029ce",
   "metadata": {},
   "outputs": [],
   "source": [
    "# New model with original three feature and Robust Scaler"
   ]
  },
  {
   "cell_type": "code",
   "execution_count": 255,
   "id": "2c339f61",
   "metadata": {},
   "outputs": [
    {
     "data": {
      "text/plain": [
       "LinearRegression(normalize=True)"
      ]
     },
     "execution_count": 255,
     "metadata": {},
     "output_type": "execute_result"
    }
   ],
   "source": [
    "lm = LinearRegression(normalize=True)\n",
    "lm.fit(x_train_1st_robust, y_train.price)"
   ]
  },
  {
   "cell_type": "code",
   "execution_count": 256,
   "id": "1ae80baf",
   "metadata": {},
   "outputs": [],
   "source": [
    "y_train['price_pred_lm_robust'] = lm.predict(x_train_1st_robust)\n",
    "rmse_train = mean_squared_error(y_train.price, y_train.price_pred_lm_robust)**(1/2)\n",
    "\n",
    "y_validate['price_pred_lm_robust'] = lm.predict(x_validate_1st_robust)\n",
    "rmse_validate = mean_squared_error(y_validate.price, y_validate.price_pred_lm_robust)**(1/2)"
   ]
  },
  {
   "cell_type": "code",
   "execution_count": 257,
   "id": "ba64e424",
   "metadata": {},
   "outputs": [
    {
     "name": "stdout",
     "output_type": "stream",
     "text": [
      "RMSE for OLS using LinearRegression\n",
      "Training/In-Sample:  284981.66107545304 \n",
      "Validation/Out-of-Sample:  288431.29889462446\n"
     ]
    }
   ],
   "source": [
    "print(\"RMSE for OLS using LinearRegression\\nTraining/In-Sample: \", rmse_train, \n",
    "      \"\\nValidation/Out-of-Sample: \", rmse_validate)"
   ]
  },
  {
   "cell_type": "markdown",
   "id": "c05652d0",
   "metadata": {},
   "source": [
    "### Lasso Lars"
   ]
  },
  {
   "cell_type": "code",
   "execution_count": 85,
   "id": "b2508d9e",
   "metadata": {},
   "outputs": [],
   "source": [
    "lars = LassoLars(alpha=1.0)"
   ]
  },
  {
   "cell_type": "code",
   "execution_count": 86,
   "id": "3e37b179",
   "metadata": {},
   "outputs": [
    {
     "data": {
      "text/plain": [
       "LassoLars()"
      ]
     },
     "execution_count": 86,
     "metadata": {},
     "output_type": "execute_result"
    }
   ],
   "source": [
    "lars.fit(x_train_scaled, y_train.price)"
   ]
  },
  {
   "cell_type": "code",
   "execution_count": 87,
   "id": "00a42b25",
   "metadata": {},
   "outputs": [],
   "source": [
    "y_train['price_pred_lars'] = lars.predict(x_train_scaled)"
   ]
  },
  {
   "cell_type": "code",
   "execution_count": 88,
   "id": "f3893859",
   "metadata": {},
   "outputs": [],
   "source": [
    "rmse_train = mean_squared_error(y_train.price, y_train.price_pred_lars)**(1/2)"
   ]
  },
  {
   "cell_type": "code",
   "execution_count": 89,
   "id": "7ac23a0e",
   "metadata": {},
   "outputs": [],
   "source": [
    "y_validate['price_pred_lars'] = lars.predict(x_validate_scaled)"
   ]
  },
  {
   "cell_type": "code",
   "execution_count": 90,
   "id": "e86584c0",
   "metadata": {},
   "outputs": [],
   "source": [
    "rmse_validate = mean_squared_error(y_validate.price, y_validate.price_pred_lars)**(1/2)"
   ]
  },
  {
   "cell_type": "code",
   "execution_count": 91,
   "id": "7e95e578",
   "metadata": {},
   "outputs": [
    {
     "name": "stdout",
     "output_type": "stream",
     "text": [
      "RMSE for Lasso + Lars\n",
      "Training/In-Sample:  285566.94918727194 \n",
      "Validation/Out-of-Sample:  286654.6608343361\n"
     ]
    }
   ],
   "source": [
    "print(\"RMSE for Lasso + Lars\\nTraining/In-Sample: \", rmse_train, \n",
    "      \"\\nValidation/Out-of-Sample: \", rmse_validate)"
   ]
  },
  {
   "cell_type": "code",
   "execution_count": 175,
   "id": "5e81a923",
   "metadata": {},
   "outputs": [],
   "source": [
    "# New model with four features"
   ]
  },
  {
   "cell_type": "code",
   "execution_count": 176,
   "id": "7064bac7",
   "metadata": {},
   "outputs": [
    {
     "data": {
      "text/plain": [
       "LassoLars()"
      ]
     },
     "execution_count": 176,
     "metadata": {},
     "output_type": "execute_result"
    }
   ],
   "source": [
    "lars = LassoLars(alpha=1.0)\n",
    "lars.fit(x_train_model, y_train.price)"
   ]
  },
  {
   "cell_type": "code",
   "execution_count": 179,
   "id": "d1daf7ae",
   "metadata": {},
   "outputs": [],
   "source": [
    "y_train['price_pred_lars2'] = lars.predict(x_train_model)\n",
    "rmse_train = mean_squared_error(y_train.price, y_train.price_pred_lars2)**(1/2)\n",
    "\n",
    "y_validate['price_pred_lars2'] = lars.predict(x_validate_model)\n",
    "rmse_validate = mean_squared_error(y_validate.price, y_validate.price_pred_lars2)**(1/2)"
   ]
  },
  {
   "cell_type": "code",
   "execution_count": 180,
   "id": "4ea2093a",
   "metadata": {},
   "outputs": [
    {
     "name": "stdout",
     "output_type": "stream",
     "text": [
      "RMSE for Lasso + Lars\n",
      "Training/In-Sample:  284309.206084717 \n",
      "Validation/Out-of-Sample:  287749.6142054179\n"
     ]
    }
   ],
   "source": [
    "print(\"RMSE for Lasso + Lars\\nTraining/In-Sample: \", rmse_train, \n",
    "      \"\\nValidation/Out-of-Sample: \", rmse_validate)"
   ]
  },
  {
   "cell_type": "code",
   "execution_count": 199,
   "id": "31b1cd1e",
   "metadata": {},
   "outputs": [],
   "source": [
    "# New model using Robust Scaler"
   ]
  },
  {
   "cell_type": "code",
   "execution_count": 200,
   "id": "e0055d0b",
   "metadata": {},
   "outputs": [
    {
     "data": {
      "text/plain": [
       "LassoLars()"
      ]
     },
     "execution_count": 200,
     "metadata": {},
     "output_type": "execute_result"
    }
   ],
   "source": [
    "lars = LassoLars(alpha=1.0)\n",
    "lars.fit(x_train_robust, y_train.price)"
   ]
  },
  {
   "cell_type": "code",
   "execution_count": 201,
   "id": "b492ccec",
   "metadata": {},
   "outputs": [],
   "source": [
    "y_train['price_pred_lars2_robust'] = lars.predict(x_train_robust)\n",
    "rmse_train = mean_squared_error(y_train.price, y_train.price_pred_lars2_robust)**(1/2)\n",
    "\n",
    "y_validate['price_pred_lars2_robust'] = lars.predict(x_validate_robust)\n",
    "rmse_validate = mean_squared_error(y_validate.price, y_validate.price_pred_lars2_robust)**(1/2)"
   ]
  },
  {
   "cell_type": "code",
   "execution_count": 202,
   "id": "0be01c53",
   "metadata": {},
   "outputs": [
    {
     "name": "stdout",
     "output_type": "stream",
     "text": [
      "RMSE for Lasso + Lars\n",
      "Training/In-Sample:  283870.2232359521 \n",
      "Validation/Out-of-Sample:  287350.50448187115\n"
     ]
    }
   ],
   "source": [
    "print(\"RMSE for Lasso + Lars\\nTraining/In-Sample: \", rmse_train, \n",
    "      \"\\nValidation/Out-of-Sample: \", rmse_validate)"
   ]
  },
  {
   "cell_type": "markdown",
   "id": "4a6be79c",
   "metadata": {},
   "source": [
    "### Tweedie Regressor (GLM)"
   ]
  },
  {
   "cell_type": "code",
   "execution_count": 92,
   "id": "515dd1c2",
   "metadata": {},
   "outputs": [],
   "source": [
    "glm = TweedieRegressor(power=1, alpha=0)"
   ]
  },
  {
   "cell_type": "code",
   "execution_count": 93,
   "id": "ee95d087",
   "metadata": {},
   "outputs": [
    {
     "data": {
      "text/plain": [
       "TweedieRegressor(alpha=0, power=1)"
      ]
     },
     "execution_count": 93,
     "metadata": {},
     "output_type": "execute_result"
    }
   ],
   "source": [
    "glm.fit(x_train_scaled, y_train.price)"
   ]
  },
  {
   "cell_type": "code",
   "execution_count": 94,
   "id": "beff9a60",
   "metadata": {},
   "outputs": [],
   "source": [
    "y_train['price_pred_glm'] = glm.predict(x_train_scaled)"
   ]
  },
  {
   "cell_type": "code",
   "execution_count": 95,
   "id": "ddd71090",
   "metadata": {},
   "outputs": [],
   "source": [
    "rmse_train = mean_squared_error(y_train.price, y_train.price_pred_glm)**(1/2)"
   ]
  },
  {
   "cell_type": "code",
   "execution_count": 96,
   "id": "56313046",
   "metadata": {},
   "outputs": [],
   "source": [
    "y_validate['price_pred_glm'] = glm.predict(x_validate_scaled)"
   ]
  },
  {
   "cell_type": "code",
   "execution_count": 97,
   "id": "08adb05e",
   "metadata": {},
   "outputs": [],
   "source": [
    "rmse_validate = mean_squared_error(y_validate.price, y_validate.price_pred_glm)**(1/2)"
   ]
  },
  {
   "cell_type": "code",
   "execution_count": 98,
   "id": "53e2115d",
   "metadata": {},
   "outputs": [
    {
     "name": "stdout",
     "output_type": "stream",
     "text": [
      "RMSE for GLM using Tweedie, power=1 & alpha=0\n",
      "Training/In-Sample:  290283.4127353896 \n",
      "Validation/Out-of-Sample:  290895.7112194505\n"
     ]
    }
   ],
   "source": [
    "print(\"RMSE for GLM using Tweedie, power=1 & alpha=0\\nTraining/In-Sample: \", rmse_train, \n",
    "      \"\\nValidation/Out-of-Sample: \", rmse_validate)"
   ]
  },
  {
   "cell_type": "code",
   "execution_count": 182,
   "id": "97ff6fbc",
   "metadata": {},
   "outputs": [],
   "source": [
    "# New model with four features"
   ]
  },
  {
   "cell_type": "code",
   "execution_count": 183,
   "id": "82441312",
   "metadata": {},
   "outputs": [
    {
     "data": {
      "text/plain": [
       "TweedieRegressor(alpha=0, power=1)"
      ]
     },
     "execution_count": 183,
     "metadata": {},
     "output_type": "execute_result"
    }
   ],
   "source": [
    "glm = TweedieRegressor(power=1, alpha=0)\n",
    "glm.fit(x_train_model, y_train.price)"
   ]
  },
  {
   "cell_type": "code",
   "execution_count": 184,
   "id": "cb8b24d4",
   "metadata": {},
   "outputs": [],
   "source": [
    "y_train['price_pred_glm2'] = glm.predict(x_train_model)\n",
    "rmse_train = mean_squared_error(y_train.price, y_train.price_pred_glm2)**(1/2)\n",
    "\n",
    "y_validate['price_pred_glm2'] = glm.predict(x_validate_model)\n",
    "rmse_validate = mean_squared_error(y_validate.price, y_validate.price_pred_glm2)**(1/2)"
   ]
  },
  {
   "cell_type": "code",
   "execution_count": 185,
   "id": "f94c207c",
   "metadata": {},
   "outputs": [
    {
     "name": "stdout",
     "output_type": "stream",
     "text": [
      "RMSE for GLM using Tweedie, power=1 & alpha=0\n",
      "Training/In-Sample:  289662.4029527998 \n",
      "Validation/Out-of-Sample:  294327.0646398507\n"
     ]
    }
   ],
   "source": [
    "print(\"RMSE for GLM using Tweedie, power=1 & alpha=0\\nTraining/In-Sample: \", rmse_train, \n",
    "      \"\\nValidation/Out-of-Sample: \", rmse_validate)"
   ]
  },
  {
   "cell_type": "code",
   "execution_count": 203,
   "id": "df976b62",
   "metadata": {},
   "outputs": [],
   "source": [
    "# New model with Robust Scaler"
   ]
  },
  {
   "cell_type": "code",
   "execution_count": 204,
   "id": "ed4527d7",
   "metadata": {},
   "outputs": [
    {
     "data": {
      "text/plain": [
       "TweedieRegressor(alpha=0, power=1)"
      ]
     },
     "execution_count": 204,
     "metadata": {},
     "output_type": "execute_result"
    }
   ],
   "source": [
    "glm = TweedieRegressor(power=1, alpha=0)\n",
    "glm.fit(x_train_robust, y_train.price)"
   ]
  },
  {
   "cell_type": "code",
   "execution_count": 205,
   "id": "e1c2c35c",
   "metadata": {},
   "outputs": [],
   "source": [
    "y_train['price_pred_glm2_robust'] = glm.predict(x_train_robust)\n",
    "rmse_train = mean_squared_error(y_train.price, y_train.price_pred_glm2_robust)**(1/2)\n",
    "\n",
    "y_validate['price_pred_glm2_robust'] = glm.predict(x_validate_robust)\n",
    "rmse_validate = mean_squared_error(y_validate.price, y_validate.price_pred_glm2_robust)**(1/2)"
   ]
  },
  {
   "cell_type": "code",
   "execution_count": 206,
   "id": "a107a50d",
   "metadata": {},
   "outputs": [
    {
     "name": "stdout",
     "output_type": "stream",
     "text": [
      "RMSE for GLM using Tweedie, power=1 & alpha=0\n",
      "Training/In-Sample:  352181.7661389873 \n",
      "Validation/Out-of-Sample:  355382.4068705387\n"
     ]
    }
   ],
   "source": [
    "print(\"RMSE for GLM using Tweedie, power=1 & alpha=0\\nTraining/In-Sample: \", rmse_train, \n",
    "      \"\\nValidation/Out-of-Sample: \", rmse_validate)"
   ]
  },
  {
   "cell_type": "markdown",
   "id": "964c5615",
   "metadata": {},
   "source": [
    "### Polynomial Regression"
   ]
  },
  {
   "cell_type": "code",
   "execution_count": 99,
   "id": "5423b01a",
   "metadata": {},
   "outputs": [],
   "source": [
    "pf = PolynomialFeatures(degree=2)"
   ]
  },
  {
   "cell_type": "code",
   "execution_count": 100,
   "id": "2b233b92",
   "metadata": {},
   "outputs": [],
   "source": [
    "x_train_degree2 = pf.fit_transform(x_train_scaled)"
   ]
  },
  {
   "cell_type": "code",
   "execution_count": 101,
   "id": "1ea486de",
   "metadata": {},
   "outputs": [],
   "source": [
    "x_validate_degree2 = pf.transform(x_validate_scaled)"
   ]
  },
  {
   "cell_type": "code",
   "execution_count": 102,
   "id": "516900ce",
   "metadata": {},
   "outputs": [],
   "source": [
    "lm2 = LinearRegression(normalize = True)"
   ]
  },
  {
   "cell_type": "code",
   "execution_count": 103,
   "id": "1d1ea670",
   "metadata": {},
   "outputs": [
    {
     "data": {
      "text/plain": [
       "LinearRegression(normalize=True)"
      ]
     },
     "execution_count": 103,
     "metadata": {},
     "output_type": "execute_result"
    }
   ],
   "source": [
    "lm2.fit(x_train_degree2, y_train.price)"
   ]
  },
  {
   "cell_type": "code",
   "execution_count": 104,
   "id": "6e6a1758",
   "metadata": {},
   "outputs": [],
   "source": [
    "y_train['price_pred_lm2'] = lm2.predict(x_train_degree2)"
   ]
  },
  {
   "cell_type": "code",
   "execution_count": 105,
   "id": "5a90bf45",
   "metadata": {},
   "outputs": [],
   "source": [
    "rmse_train = mean_squared_error(y_train.price, y_train.price_pred_lm2)**(1/2)"
   ]
  },
  {
   "cell_type": "code",
   "execution_count": 106,
   "id": "80dcb70a",
   "metadata": {},
   "outputs": [],
   "source": [
    "y_validate['price_pred_lm2'] = lm2.predict(x_validate_degree2)"
   ]
  },
  {
   "cell_type": "code",
   "execution_count": 107,
   "id": "06eb5717",
   "metadata": {},
   "outputs": [],
   "source": [
    "rmse_validate = mean_squared_error(y_validate.price, y_validate.price_pred_lm2)"
   ]
  },
  {
   "cell_type": "code",
   "execution_count": 108,
   "id": "87d996a6",
   "metadata": {},
   "outputs": [
    {
     "name": "stdout",
     "output_type": "stream",
     "text": [
      "RMSE for Polynomial Model, degrees=2\n",
      "Training/In-Sample:  284567.62653866276 \n",
      "Validation/Out-of-Sample:  81461022105.52779\n"
     ]
    }
   ],
   "source": [
    "print(\"RMSE for Polynomial Model, degrees=2\\nTraining/In-Sample: \", rmse_train, \n",
    "      \"\\nValidation/Out-of-Sample: \", rmse_validate)"
   ]
  },
  {
   "cell_type": "markdown",
   "id": "734082f9",
   "metadata": {},
   "source": [
    "Due to the absolutely poor perfomance by the Polynomial Regression model, I will not be conducting further work on it moving forward."
   ]
  },
  {
   "cell_type": "markdown",
   "id": "d7c1cc1e",
   "metadata": {},
   "source": [
    "Due to the performance of these models, I believe the Linear Regression model should be used moving forward."
   ]
  },
  {
   "cell_type": "markdown",
   "id": "5ac95c7c",
   "metadata": {},
   "source": [
    "All of my 2nd Gen models performed slightly worse than the 1st Gen models on validate. Next I will use a different scaler to see if that provides better results. "
   ]
  },
  {
   "cell_type": "code",
   "execution_count": null,
   "id": "2f6c97f7",
   "metadata": {},
   "outputs": [],
   "source": []
  }
 ],
 "metadata": {
  "kernelspec": {
   "display_name": "Python 3 (ipykernel)",
   "language": "python",
   "name": "python3"
  },
  "language_info": {
   "codemirror_mode": {
    "name": "ipython",
    "version": 3
   },
   "file_extension": ".py",
   "mimetype": "text/x-python",
   "name": "python",
   "nbconvert_exporter": "python",
   "pygments_lexer": "ipython3",
   "version": "3.9.12"
  }
 },
 "nbformat": 4,
 "nbformat_minor": 5
}
