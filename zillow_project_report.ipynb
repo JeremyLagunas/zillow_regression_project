{
 "cells": [
  {
   "cell_type": "markdown",
   "id": "e167935e",
   "metadata": {},
   "source": [
    "# Zillow Project Report\n",
    "By Jeremy Lagunas 07/27/2022"
   ]
  },
  {
   "cell_type": "code",
   "execution_count": 1,
   "id": "380746c7",
   "metadata": {},
   "outputs": [],
   "source": [
    "import warnings\n",
    "warnings.filterwarnings('ignore')\n",
    "import matplotlib.pyplot as plt\n",
    "import seaborn as sns\n",
    "import pandas as pd\n",
    "import numpy as np\n",
    "import os\n",
    "from env import host, user, password\n",
    "import wrangle"
   ]
  },
  {
   "cell_type": "markdown",
   "id": "ab1b58e2",
   "metadata": {},
   "source": [
    "# Project Description\n",
    "\n",
    "I will explore the zillow data set to answer a few questions concerning the relationship of certain variables. After gaining this insight I will begin feature engineering and modeling, with the overall goal to create an accurate predictive model of home price."
   ]
  },
  {
   "cell_type": "markdown",
   "id": "d79e8d9f",
   "metadata": {},
   "source": [
    "# Acquire"
   ]
  },
  {
   "cell_type": "code",
   "execution_count": 2,
   "id": "a9307750",
   "metadata": {},
   "outputs": [],
   "source": [
    "df = wrangle.new_zillow_data()"
   ]
  },
  {
   "cell_type": "code",
   "execution_count": 3,
   "id": "ee985f0e",
   "metadata": {},
   "outputs": [
    {
     "data": {
      "text/html": [
       "<div>\n",
       "<style scoped>\n",
       "    .dataframe tbody tr th:only-of-type {\n",
       "        vertical-align: middle;\n",
       "    }\n",
       "\n",
       "    .dataframe tbody tr th {\n",
       "        vertical-align: top;\n",
       "    }\n",
       "\n",
       "    .dataframe thead th {\n",
       "        text-align: right;\n",
       "    }\n",
       "</style>\n",
       "<table border=\"1\" class=\"dataframe\">\n",
       "  <thead>\n",
       "    <tr style=\"text-align: right;\">\n",
       "      <th></th>\n",
       "      <th>bedroomcnt</th>\n",
       "      <th>bathroomcnt</th>\n",
       "      <th>calculatedfinishedsquarefeet</th>\n",
       "      <th>taxvaluedollarcnt</th>\n",
       "      <th>lotsizesquarefeet</th>\n",
       "      <th>regionidzip</th>\n",
       "      <th>yearbuilt</th>\n",
       "      <th>poolcnt</th>\n",
       "      <th>fireplacecnt</th>\n",
       "    </tr>\n",
       "  </thead>\n",
       "  <tbody>\n",
       "    <tr>\n",
       "      <th>0</th>\n",
       "      <td>4.0</td>\n",
       "      <td>3.5</td>\n",
       "      <td>3100.0</td>\n",
       "      <td>1023282.0</td>\n",
       "      <td>4506.0</td>\n",
       "      <td>96978.0</td>\n",
       "      <td>1998.0</td>\n",
       "      <td>NaN</td>\n",
       "      <td>NaN</td>\n",
       "    </tr>\n",
       "    <tr>\n",
       "      <th>1</th>\n",
       "      <td>2.0</td>\n",
       "      <td>1.0</td>\n",
       "      <td>1465.0</td>\n",
       "      <td>464000.0</td>\n",
       "      <td>12647.0</td>\n",
       "      <td>97099.0</td>\n",
       "      <td>1967.0</td>\n",
       "      <td>NaN</td>\n",
       "      <td>1.0</td>\n",
       "    </tr>\n",
       "    <tr>\n",
       "      <th>2</th>\n",
       "      <td>3.0</td>\n",
       "      <td>2.0</td>\n",
       "      <td>1243.0</td>\n",
       "      <td>564778.0</td>\n",
       "      <td>8432.0</td>\n",
       "      <td>97078.0</td>\n",
       "      <td>1962.0</td>\n",
       "      <td>1.0</td>\n",
       "      <td>NaN</td>\n",
       "    </tr>\n",
       "  </tbody>\n",
       "</table>\n",
       "</div>"
      ],
      "text/plain": [
       "   bedroomcnt  bathroomcnt  calculatedfinishedsquarefeet  taxvaluedollarcnt  \\\n",
       "0         4.0          3.5                        3100.0          1023282.0   \n",
       "1         2.0          1.0                        1465.0           464000.0   \n",
       "2         3.0          2.0                        1243.0           564778.0   \n",
       "\n",
       "   lotsizesquarefeet  regionidzip  yearbuilt  poolcnt  fireplacecnt  \n",
       "0             4506.0      96978.0     1998.0      NaN           NaN  \n",
       "1            12647.0      97099.0     1967.0      NaN           1.0  \n",
       "2             8432.0      97078.0     1962.0      1.0           NaN  "
      ]
     },
     "execution_count": 3,
     "metadata": {},
     "output_type": "execute_result"
    }
   ],
   "source": [
    "df.head(3)"
   ]
  },
  {
   "cell_type": "markdown",
   "id": "34557a2c",
   "metadata": {},
   "source": [
    "I acquired this data with the new_zillow_data funtion from the wrangle.py file. I reviewed the data on MySQL first and decided that these columns seemed most usefull. "
   ]
  },
  {
   "cell_type": "code",
   "execution_count": 4,
   "id": "334a4d9c",
   "metadata": {},
   "outputs": [
    {
     "data": {
      "text/plain": [
       "(52441, 9)"
      ]
     },
     "execution_count": 4,
     "metadata": {},
     "output_type": "execute_result"
    }
   ],
   "source": [
    "df.shape"
   ]
  },
  {
   "cell_type": "markdown",
   "id": "6392af17",
   "metadata": {},
   "source": [
    "# Prepare"
   ]
  },
  {
   "cell_type": "code",
   "execution_count": 5,
   "id": "0c0d4a29",
   "metadata": {},
   "outputs": [],
   "source": [
    "df = wrangle.zillow_clean(df)"
   ]
  },
  {
   "cell_type": "markdown",
   "id": "a4b91aa6",
   "metadata": {},
   "source": [
    "I changed the names of the columns to make them easier to read and work with.\n",
    "The NaN's in fireplace and pool were changed to 0's\n",
    "\n",
    "Limits: \n",
    "- at least one bedroom and bathroom but no more than six\n",
    "- a price less than or equal to two million \n",
    "- square feet less than or equal to six thousand. "
   ]
  },
  {
   "cell_type": "code",
   "execution_count": 105,
   "id": "3520586a",
   "metadata": {},
   "outputs": [
    {
     "data": {
      "text/html": [
       "<div>\n",
       "<style scoped>\n",
       "    .dataframe tbody tr th:only-of-type {\n",
       "        vertical-align: middle;\n",
       "    }\n",
       "\n",
       "    .dataframe tbody tr th {\n",
       "        vertical-align: top;\n",
       "    }\n",
       "\n",
       "    .dataframe thead th {\n",
       "        text-align: right;\n",
       "    }\n",
       "</style>\n",
       "<table border=\"1\" class=\"dataframe\">\n",
       "  <thead>\n",
       "    <tr style=\"text-align: right;\">\n",
       "      <th></th>\n",
       "      <th>bed</th>\n",
       "      <th>bath</th>\n",
       "      <th>square_feet</th>\n",
       "      <th>price</th>\n",
       "      <th>lot_square_feet</th>\n",
       "      <th>zipcode</th>\n",
       "      <th>year_built</th>\n",
       "      <th>pool</th>\n",
       "      <th>fireplace</th>\n",
       "    </tr>\n",
       "  </thead>\n",
       "  <tbody>\n",
       "    <tr>\n",
       "      <th>0</th>\n",
       "      <td>4.0</td>\n",
       "      <td>3.5</td>\n",
       "      <td>3100.0</td>\n",
       "      <td>1023282.0</td>\n",
       "      <td>4506.0</td>\n",
       "      <td>96978.0</td>\n",
       "      <td>1998.0</td>\n",
       "      <td>0.0</td>\n",
       "      <td>0.0</td>\n",
       "    </tr>\n",
       "    <tr>\n",
       "      <th>1</th>\n",
       "      <td>2.0</td>\n",
       "      <td>1.0</td>\n",
       "      <td>1465.0</td>\n",
       "      <td>464000.0</td>\n",
       "      <td>12647.0</td>\n",
       "      <td>97099.0</td>\n",
       "      <td>1967.0</td>\n",
       "      <td>0.0</td>\n",
       "      <td>1.0</td>\n",
       "    </tr>\n",
       "    <tr>\n",
       "      <th>2</th>\n",
       "      <td>3.0</td>\n",
       "      <td>2.0</td>\n",
       "      <td>1243.0</td>\n",
       "      <td>564778.0</td>\n",
       "      <td>8432.0</td>\n",
       "      <td>97078.0</td>\n",
       "      <td>1962.0</td>\n",
       "      <td>1.0</td>\n",
       "      <td>0.0</td>\n",
       "    </tr>\n",
       "  </tbody>\n",
       "</table>\n",
       "</div>"
      ],
      "text/plain": [
       "   bed  bath  square_feet      price  lot_square_feet  zipcode  year_built  \\\n",
       "0  4.0   3.5       3100.0  1023282.0           4506.0  96978.0      1998.0   \n",
       "1  2.0   1.0       1465.0   464000.0          12647.0  97099.0      1967.0   \n",
       "2  3.0   2.0       1243.0   564778.0           8432.0  97078.0      1962.0   \n",
       "\n",
       "   pool  fireplace  \n",
       "0   0.0        0.0  \n",
       "1   0.0        1.0  \n",
       "2   1.0        0.0  "
      ]
     },
     "execution_count": 105,
     "metadata": {},
     "output_type": "execute_result"
    }
   ],
   "source": [
    "df.head(3)"
   ]
  },
  {
   "cell_type": "code",
   "execution_count": 6,
   "id": "d649dd1a",
   "metadata": {},
   "outputs": [
    {
     "data": {
      "text/plain": [
       "(50340, 9)"
      ]
     },
     "execution_count": 6,
     "metadata": {},
     "output_type": "execute_result"
    }
   ],
   "source": [
    "df.shape"
   ]
  },
  {
   "cell_type": "markdown",
   "id": "f3798812",
   "metadata": {},
   "source": [
    "# Explore\n",
    "\n",
    "## Questions:\n",
    "1. Is there a relationship between house square feet and price?\n",
    "2. Are houses with more bedrooms priced higher than houses with less bedrooms?\n",
    "3. Are houses with more bathrooms priced higher than houses with less bathrooms?\n",
    "4. Does the age of a house affect the price?\n",
    "5. What are the best price predictors?"
   ]
  },
  {
   "cell_type": "code",
   "execution_count": 7,
   "id": "27f15ec1",
   "metadata": {},
   "outputs": [],
   "source": [
    "# splitting the data\n",
    "from sklearn.model_selection import train_test_split\n",
    "\n",
    "train, valid_test = train_test_split(df, test_size = 0.3, random_state = 123)\n",
    "\n",
    "validate, test = train_test_split(valid_test, test_size = 0.5, random_state=123)"
   ]
  },
  {
   "cell_type": "code",
   "execution_count": 8,
   "id": "bacc7202",
   "metadata": {},
   "outputs": [
    {
     "data": {
      "text/plain": [
       "(35238, 9)"
      ]
     },
     "execution_count": 8,
     "metadata": {},
     "output_type": "execute_result"
    }
   ],
   "source": [
    "train.shape"
   ]
  },
  {
   "cell_type": "code",
   "execution_count": 9,
   "id": "9d002858",
   "metadata": {},
   "outputs": [
    {
     "data": {
      "text/plain": [
       "(7551, 9)"
      ]
     },
     "execution_count": 9,
     "metadata": {},
     "output_type": "execute_result"
    }
   ],
   "source": [
    "validate.shape"
   ]
  },
  {
   "cell_type": "code",
   "execution_count": 10,
   "id": "d5400914",
   "metadata": {},
   "outputs": [
    {
     "data": {
      "text/plain": [
       "(7551, 9)"
      ]
     },
     "execution_count": 10,
     "metadata": {},
     "output_type": "execute_result"
    }
   ],
   "source": [
    "test.shape"
   ]
  },
  {
   "cell_type": "markdown",
   "id": "509581a5",
   "metadata": {},
   "source": [
    "### What do the distributions look like?"
   ]
  },
  {
   "cell_type": "code",
   "execution_count": 104,
   "id": "1d4107c2",
   "metadata": {},
   "outputs": [
    {
     "data": {
      "image/png": "[encoded data removed]",
      "text/plain": [
       "<Figure size 864x576 with 1 Axes>"
      ]
     },
     "metadata": {
      "needs_background": "light"
     },
     "output_type": "display_data"
    }
   ],
   "source": [
    "plt.figure(figsize=(12, 8))\n",
    "plt.style.use('seaborn-deep')\n",
    "\n",
    "x = train.bed\n",
    "y = train.bath\n",
    "bins = np.linspace(0, 6, 8)\n",
    "\n",
    "plt.hist([x, y], bins, label=['bedrooms', 'bathrooms'])\n",
    "plt.legend(loc='upper right')\n",
    "plt.show()"
   ]
  },
  {
   "cell_type": "markdown",
   "id": "0d0f49b2",
   "metadata": {},
   "source": [
    "Bedrooms are normally distributed while bathrooms are pretty much normally distributed with a slight left skew."
   ]
  },
  {
   "cell_type": "code",
   "execution_count": 11,
   "id": "385a1c56",
   "metadata": {},
   "outputs": [
    {
     "data": {
      "text/plain": [
       "<AxesSubplot:>"
      ]
     },
     "execution_count": 11,
     "metadata": {},
     "output_type": "execute_result"
    },
    {
     "data": {
      "image/png": "[encoded data removed]",
      "text/plain": [
       "<Figure size 432x288 with 1 Axes>"
      ]
     },
     "metadata": {
      "needs_background": "light"
     },
     "output_type": "display_data"
    }
   ],
   "source": [
    "# histogram of home price to see the distribution\n",
    "train.price.hist()"
   ]
  },
  {
   "cell_type": "code",
   "execution_count": 14,
   "id": "6d71c087",
   "metadata": {},
   "outputs": [
    {
     "data": {
      "text/plain": [
       "<AxesSubplot:>"
      ]
     },
     "execution_count": 14,
     "metadata": {},
     "output_type": "execute_result"
    },
    {
     "data": {
      "image/png": "[encoded data removed]",
      "text/plain": [
       "<Figure size 432x288 with 1 Axes>"
      ]
     },
     "metadata": {
      "needs_background": "light"
     },
     "output_type": "display_data"
    }
   ],
   "source": [
    "# histogram of the square feet to see the distribution\n",
    "train.square_feet.hist()"
   ]
  },
  {
   "cell_type": "markdown",
   "id": "efcc5e16",
   "metadata": {},
   "source": [
    "Price and square feet are not normally distributed."
   ]
  },
  {
   "cell_type": "code",
   "execution_count": 18,
   "id": "7a0553f2",
   "metadata": {},
   "outputs": [],
   "source": [
    "from scipy import stats"
   ]
  },
  {
   "cell_type": "markdown",
   "id": "c81b2c7d",
   "metadata": {},
   "source": [
    "## 1. Is there a relationship between square feet and price?"
   ]
  },
  {
   "cell_type": "code",
   "execution_count": 19,
   "id": "d5190019",
   "metadata": {},
   "outputs": [
    {
     "data": {
      "text/plain": [
       "<seaborn.axisgrid.FacetGrid at 0x133244910>"
      ]
     },
     "execution_count": 19,
     "metadata": {},
     "output_type": "execute_result"
    },
    {
     "data": {
      "image/png": "[encoded data removed]",
      "text/plain": [
       "<Figure size 360x360 with 1 Axes>"
      ]
     },
     "metadata": {
      "needs_background": "light"
     },
     "output_type": "display_data"
    }
   ],
   "source": [
    "sns.relplot(data=train.sample(2000), x='square_feet', y='price')"
   ]
  },
  {
   "cell_type": "markdown",
   "id": "da1efb83",
   "metadata": {},
   "source": [
    "There is a lot of noise, but there does appear to be some sort of relationship between square feet and price."
   ]
  },
  {
   "cell_type": "markdown",
   "id": "61bc6676",
   "metadata": {},
   "source": [
    "### Null Hypothesis: There is no relationship between square feet and price. \n",
    "\n",
    "### Alternative Hypothesis: There is a relationship between square feet and price."
   ]
  },
  {
   "cell_type": "code",
   "execution_count": 20,
   "id": "94d27d53",
   "metadata": {},
   "outputs": [
    {
     "data": {
      "text/plain": [
       "(0.4946459832902056, 0.0)"
      ]
     },
     "execution_count": 20,
     "metadata": {},
     "output_type": "execute_result"
    }
   ],
   "source": [
    "# Because both price and square feet are continuous, and because the data is not normally distributed, I will be using the spearman r test.\n",
    "corr, p = stats.spearmanr(train.square_feet, train.price)\n",
    "corr, p"
   ]
  },
  {
   "cell_type": "markdown",
   "id": "b961f04b",
   "metadata": {},
   "source": [
    "Based on the test I can reject the null hypothesis, seeing as how there appears to be a relationship between square feet and price, answering question #1."
   ]
  },
  {
   "cell_type": "markdown",
   "id": "3f98961e",
   "metadata": {},
   "source": [
    "## 2. Are houses with more bedrooms priced higher than houses with less bedrooms?\n",
    "## Or, Does the number of bedrooms affect the price of a house?"
   ]
  },
  {
   "cell_type": "code",
   "execution_count": 28,
   "id": "1cfa84ba",
   "metadata": {},
   "outputs": [],
   "source": [
    "mean_price_per_room = {'1':round(train.price[train.bed==1].mean()), '2':round(train.price[train.bed==2].mean()), '3':round(train.price[train.bed==3].mean()), '4':round(train.price[train.bed==4].mean()), '5':round(train.price[train.bed==5].mean()), '6':round(train.price[train.bed==6].mean())}"
   ]
  },
  {
   "cell_type": "code",
   "execution_count": 38,
   "id": "7d55bc98",
   "metadata": {},
   "outputs": [
    {
     "data": {
      "image/png": "[encoded data removed]",
      "text/plain": [
       "<Figure size 720x360 with 1 Axes>"
      ]
     },
     "metadata": {
      "needs_background": "light"
     },
     "output_type": "display_data"
    }
   ],
   "source": [
    "houses = list(mean_price_per_room.keys())\n",
    "values = list(mean_price_per_room.values())\n",
    "  \n",
    "fig = plt.figure(figsize = (10, 5))\n",
    " \n",
    "# creating the bar plot\n",
    "plt.bar(houses, values, color ='teal',\n",
    "        width = 0.4)\n",
    " \n",
    "plt.xlabel(\"Number of Bedrooms\")\n",
    "plt.ylabel(\"Mean Price\")\n",
    "plt.title(\"Mean Price of a House per Number of Bedrooms\")\n",
    "plt.show()"
   ]
  },
  {
   "cell_type": "markdown",
   "id": "76cd364d",
   "metadata": {},
   "source": [
    "Based on the chart it looks like there is a relationship between the number of bedrooms and price."
   ]
  },
  {
   "cell_type": "markdown",
   "id": "d2004350",
   "metadata": {},
   "source": [
    "### Null Hypothesis: There is no relationship between the number of bedrooms and the price of a house. \n",
    "\n",
    "### Alternative Hypothesis: There is a relationship between the number of bedrooms and the price of a house."
   ]
  },
  {
   "cell_type": "code",
   "execution_count": 36,
   "id": "05dbce90",
   "metadata": {},
   "outputs": [
    {
     "data": {
      "text/plain": [
       "(602.9306976143548, 0.0)"
      ]
     },
     "execution_count": 36,
     "metadata": {},
     "output_type": "execute_result"
    }
   ],
   "source": [
    "# I'm using the one-way ANOVA test because I'm testing to see if > two groups (number of rooms) have the same population (price) mean.\n",
    "alpha = 0.05\n",
    "f, p = stats.f_oneway(train.price[train.bed == 1], train.price[train.bed == 2], train.price[train.bed == 3], train.price[train.bed == 4], train.price[train.bed == 5], train.price[train.bed == 6])\n",
    "f, p"
   ]
  },
  {
   "cell_type": "markdown",
   "id": "f1c4c961",
   "metadata": {},
   "source": [
    "Based on the test I can reject the null hypothesis that the number of bedrooms does not affect the price of the house, answering quaetion #2. "
   ]
  },
  {
   "cell_type": "markdown",
   "id": "76ba2547",
   "metadata": {},
   "source": [
    "## 3. Are house with more bathrooms priced higher than houses with less bathrooms?\n",
    "## Or, Does the number of bathrooms affect the price of a house?"
   ]
  },
  {
   "cell_type": "code",
   "execution_count": 39,
   "id": "81adf541",
   "metadata": {},
   "outputs": [],
   "source": [
    "mean_price_per_bathroom = {'1':round(train.price[train.bath==1].mean()), '2':round(train.price[train.bath==2].mean()), '3':round(train.price[train.bath==3].mean()), '4':round(train.price[train.bath==4].mean()), '5':round(train.price[train.bath==5].mean()), '6':round(train.price[train.bath==6].mean())}"
   ]
  },
  {
   "cell_type": "code",
   "execution_count": 44,
   "id": "5995c8f2",
   "metadata": {},
   "outputs": [
    {
     "data": {
      "image/png": "[encoded data removed]",
      "text/plain": [
       "<Figure size 720x360 with 1 Axes>"
      ]
     },
     "metadata": {
      "needs_background": "light"
     },
     "output_type": "display_data"
    }
   ],
   "source": [
    "bathrooms = list(mean_price_per_bathroom.keys())\n",
    "values = list(mean_price_per_bathroom.values())\n",
    "  \n",
    "fig = plt.figure(figsize = (10, 5))\n",
    " \n",
    "# creating the bar plot\n",
    "plt.bar(bathrooms, values, color ='teal',\n",
    "        width = 0.4)\n",
    "\n",
    "plt.xlabel(\"Number of Bathrooms\")\n",
    "plt.ylabel(\"Mean Price\")\n",
    "plt.title(\"Mean Price of a House per Number of Bathrooms\")\n",
    "plt.gcf().axes[0].yaxis.get_major_formatter().set_scientific(False)\n",
    "plt.show()"
   ]
  },
  {
   "cell_type": "markdown",
   "id": "a887926d",
   "metadata": {},
   "source": [
    "Based on the chart, it looks like there is a relationship between the number of bathrooms and price."
   ]
  },
  {
   "cell_type": "markdown",
   "id": "5f512dbc",
   "metadata": {},
   "source": [
    "### Null Hypothesis: There is no relationship between the number of bathrooms and the price of a house.\n",
    "\n",
    "### Alternative Hypothesis: There is a relationship between the number of bathrooms and the price of a house."
   ]
  },
  {
   "cell_type": "code",
   "execution_count": 45,
   "id": "00122adb",
   "metadata": {},
   "outputs": [
    {
     "data": {
      "text/plain": [
       "(1657.438552369102, 0.0)"
      ]
     },
     "execution_count": 45,
     "metadata": {},
     "output_type": "execute_result"
    }
   ],
   "source": [
    "# I'm using the one-way ANOVA test because I'm testing to see if > two groups (number of bathrooms) have the same population (price) mean.\n",
    "alpha = 0.05\n",
    "f, p = stats.f_oneway(train.price[train.bath == 1], train.price[train.bath == 2], train.price[train.bath == 3], train.price[train.bath == 4], train.price[train.bath == 5], train.price[train.bath == 6])\n",
    "f, p"
   ]
  },
  {
   "cell_type": "markdown",
   "id": "509583ff",
   "metadata": {},
   "source": [
    "Based on the test results I can reject the null hypothesis that there is no relationship between the number of bathrooms and the price of a house, answering question #3."
   ]
  },
  {
   "cell_type": "markdown",
   "id": "957dcd5c",
   "metadata": {},
   "source": [
    "## 4. Does the age of a house affect price?"
   ]
  },
  {
   "cell_type": "code",
   "execution_count": 46,
   "id": "ed5014ae",
   "metadata": {},
   "outputs": [
    {
     "data": {
      "text/plain": [
       "<seaborn.axisgrid.FacetGrid at 0x136f8b550>"
      ]
     },
     "execution_count": 46,
     "metadata": {},
     "output_type": "execute_result"
    },
    {
     "data": {
      "image/png": "[encoded data removed]",
      "text/plain": [
       "<Figure size 360x360 with 1 Axes>"
      ]
     },
     "metadata": {
      "needs_background": "light"
     },
     "output_type": "display_data"
    }
   ],
   "source": [
    "sns.relplot(data=train.sample(2000), x='year_built', y='price', kind='line')"
   ]
  },
  {
   "cell_type": "markdown",
   "id": "b24d70e0",
   "metadata": {},
   "source": [
    "Based on the chart there does appear to be a relationship between the age of the house (or year built) and price."
   ]
  },
  {
   "cell_type": "code",
   "execution_count": 47,
   "id": "c71310d3",
   "metadata": {},
   "outputs": [
    {
     "data": {
      "text/plain": [
       "(0.2690936037540229, 0.0)"
      ]
     },
     "execution_count": 47,
     "metadata": {},
     "output_type": "execute_result"
    }
   ],
   "source": [
    "corr, p = stats.spearmanr(train.year_built, train.price)\n",
    "corr, p"
   ]
  },
  {
   "cell_type": "markdown",
   "id": "eb7a34db",
   "metadata": {},
   "source": [
    "Based on the test results I can reject the null hypothesis that there is no relationship between the age of the house and the price, answering question #4."
   ]
  },
  {
   "cell_type": "markdown",
   "id": "48ba3490",
   "metadata": {},
   "source": [
    "### Exploration Summary\n",
    "\n",
    "After exploring the data I have found several variables which have a relationship with our target variable price. These are: square feet, bedrooms, bathrooms, and year built. This is good information to keep in mind as I begin constructing my model."
   ]
  },
  {
   "cell_type": "markdown",
   "id": "836f9bfd",
   "metadata": {},
   "source": [
    "### X, Y"
   ]
  },
  {
   "cell_type": "code",
   "execution_count": 48,
   "id": "70ee2430",
   "metadata": {},
   "outputs": [],
   "source": [
    "# Here I am separating the x (features) and y (target) so that I may begin feature enginerring and modeling. \n",
    "y_train = train.price\n",
    "x_train = train.drop(columns = ['price'])\n",
    "\n",
    "y_validate = validate.price\n",
    "x_validate = validate.drop(columns = ['price'])\n",
    "\n",
    "y_test = test.price\n",
    "x_test = test.drop(columns = ['price'])"
   ]
  },
  {
   "cell_type": "code",
   "execution_count": 49,
   "id": "7c1a3136",
   "metadata": {},
   "outputs": [],
   "source": [
    "y_test = pd.DataFrame(y_test, columns = ['price'])"
   ]
  },
  {
   "cell_type": "code",
   "execution_count": 50,
   "id": "e5365b1f",
   "metadata": {},
   "outputs": [
    {
     "data": {
      "text/html": [
       "<div>\n",
       "<style scoped>\n",
       "    .dataframe tbody tr th:only-of-type {\n",
       "        vertical-align: middle;\n",
       "    }\n",
       "\n",
       "    .dataframe tbody tr th {\n",
       "        vertical-align: top;\n",
       "    }\n",
       "\n",
       "    .dataframe thead th {\n",
       "        text-align: right;\n",
       "    }\n",
       "</style>\n",
       "<table border=\"1\" class=\"dataframe\">\n",
       "  <thead>\n",
       "    <tr style=\"text-align: right;\">\n",
       "      <th></th>\n",
       "      <th>price</th>\n",
       "    </tr>\n",
       "  </thead>\n",
       "  <tbody>\n",
       "    <tr>\n",
       "      <th>29998</th>\n",
       "      <td>461623.0</td>\n",
       "    </tr>\n",
       "    <tr>\n",
       "      <th>20688</th>\n",
       "      <td>485164.0</td>\n",
       "    </tr>\n",
       "  </tbody>\n",
       "</table>\n",
       "</div>"
      ],
      "text/plain": [
       "          price\n",
       "29998  461623.0\n",
       "20688  485164.0"
      ]
     },
     "execution_count": 50,
     "metadata": {},
     "output_type": "execute_result"
    }
   ],
   "source": [
    "y_test.head(2)"
   ]
  },
  {
   "cell_type": "code",
   "execution_count": 51,
   "id": "50b8d81e",
   "metadata": {},
   "outputs": [],
   "source": [
    "import sklearn.preprocessing"
   ]
  },
  {
   "cell_type": "markdown",
   "id": "07caf48c",
   "metadata": {},
   "source": [
    "## Feature Engineering\n",
    "\n",
    "### Select K Best"
   ]
  },
  {
   "cell_type": "code",
   "execution_count": 52,
   "id": "cea1400a",
   "metadata": {},
   "outputs": [],
   "source": [
    "# I am using the MinMaxScaler to scale my data so it can be better used in modeling.\n",
    "scaler = sklearn.preprocessing.MinMaxScaler()\n",
    "\n",
    "scaler.fit(x_train)\n",
    "\n",
    "x_train_scaled = scaler.transform(x_train)\n",
    "x_validate_scaled = scaler.transform(x_validate)\n",
    "x_test_scaled = scaler.transform(x_test)"
   ]
  },
  {
   "cell_type": "code",
   "execution_count": 53,
   "id": "b53672c3",
   "metadata": {},
   "outputs": [],
   "source": [
    "from sklearn.feature_selection import SelectKBest, f_regression"
   ]
  },
  {
   "cell_type": "code",
   "execution_count": 54,
   "id": "ef62ccf2",
   "metadata": {},
   "outputs": [
    {
     "data": {
      "text/plain": [
       "SelectKBest(k=3, score_func=<function f_regression at 0x150073ee0>)"
      ]
     },
     "execution_count": 54,
     "metadata": {},
     "output_type": "execute_result"
    }
   ],
   "source": [
    "kbest = SelectKBest(f_regression, k=3)\n",
    "\n",
    "kbest.fit(x_train_scaled, y_train)"
   ]
  },
  {
   "cell_type": "code",
   "execution_count": 55,
   "id": "fd5b9e71",
   "metadata": {},
   "outputs": [],
   "source": [
    "kbest_results = pd.DataFrame(dict(p=kbest.pvalues_, f=kbest.scores_), index=x_train.columns)"
   ]
  },
  {
   "cell_type": "code",
   "execution_count": 56,
   "id": "b987a1e2",
   "metadata": {},
   "outputs": [
    {
     "data": {
      "text/html": [
       "<div>\n",
       "<style scoped>\n",
       "    .dataframe tbody tr th:only-of-type {\n",
       "        vertical-align: middle;\n",
       "    }\n",
       "\n",
       "    .dataframe tbody tr th {\n",
       "        vertical-align: top;\n",
       "    }\n",
       "\n",
       "    .dataframe thead th {\n",
       "        text-align: right;\n",
       "    }\n",
       "</style>\n",
       "<table border=\"1\" class=\"dataframe\">\n",
       "  <thead>\n",
       "    <tr style=\"text-align: right;\">\n",
       "      <th></th>\n",
       "      <th>p</th>\n",
       "      <th>f</th>\n",
       "    </tr>\n",
       "  </thead>\n",
       "  <tbody>\n",
       "    <tr>\n",
       "      <th>bed</th>\n",
       "      <td>0.000000e+00</td>\n",
       "      <td>2734.808056</td>\n",
       "    </tr>\n",
       "    <tr>\n",
       "      <th>bath</th>\n",
       "      <td>0.000000e+00</td>\n",
       "      <td>11537.734892</td>\n",
       "    </tr>\n",
       "    <tr>\n",
       "      <th>square_feet</th>\n",
       "      <td>0.000000e+00</td>\n",
       "      <td>17001.894530</td>\n",
       "    </tr>\n",
       "    <tr>\n",
       "      <th>lot_square_feet</th>\n",
       "      <td>1.139272e-01</td>\n",
       "      <td>2.499005</td>\n",
       "    </tr>\n",
       "    <tr>\n",
       "      <th>zipcode</th>\n",
       "      <td>8.755571e-02</td>\n",
       "      <td>2.918911</td>\n",
       "    </tr>\n",
       "    <tr>\n",
       "      <th>year_built</th>\n",
       "      <td>0.000000e+00</td>\n",
       "      <td>2165.034881</td>\n",
       "    </tr>\n",
       "    <tr>\n",
       "      <th>pool</th>\n",
       "      <td>0.000000e+00</td>\n",
       "      <td>1942.453232</td>\n",
       "    </tr>\n",
       "    <tr>\n",
       "      <th>fireplace</th>\n",
       "      <td>2.687379e-114</td>\n",
       "      <td>520.118817</td>\n",
       "    </tr>\n",
       "  </tbody>\n",
       "</table>\n",
       "</div>"
      ],
      "text/plain": [
       "                             p             f\n",
       "bed               0.000000e+00   2734.808056\n",
       "bath              0.000000e+00  11537.734892\n",
       "square_feet       0.000000e+00  17001.894530\n",
       "lot_square_feet   1.139272e-01      2.499005\n",
       "zipcode           8.755571e-02      2.918911\n",
       "year_built        0.000000e+00   2165.034881\n",
       "pool              0.000000e+00   1942.453232\n",
       "fireplace        2.687379e-114    520.118817"
      ]
     },
     "execution_count": 56,
     "metadata": {},
     "output_type": "execute_result"
    }
   ],
   "source": [
    "kbest_results"
   ]
  },
  {
   "cell_type": "markdown",
   "id": "b188d691",
   "metadata": {},
   "source": [
    "The Select K Best shows that square_feet, bathrooms, and bedrooms are the best features, answering question #5."
   ]
  },
  {
   "cell_type": "markdown",
   "id": "f1d7ff7b",
   "metadata": {},
   "source": [
    "### RFE"
   ]
  },
  {
   "cell_type": "code",
   "execution_count": 57,
   "id": "6659bf3c",
   "metadata": {},
   "outputs": [],
   "source": [
    "from sklearn.linear_model import LinearRegression\n",
    "from sklearn.feature_selection import RFE, f_regression, SequentialFeatureSelector"
   ]
  },
  {
   "cell_type": "code",
   "execution_count": 58,
   "id": "8637f318",
   "metadata": {},
   "outputs": [
    {
     "data": {
      "text/plain": [
       "RFE(estimator=LinearRegression(), n_features_to_select=3)"
      ]
     },
     "execution_count": 58,
     "metadata": {},
     "output_type": "execute_result"
    }
   ],
   "source": [
    "model = LinearRegression()\n",
    "rfe = RFE(model, n_features_to_select = 3)\n",
    "rfe.fit(x_train_scaled, y_train)"
   ]
  },
  {
   "cell_type": "code",
   "execution_count": 59,
   "id": "8849d62b",
   "metadata": {},
   "outputs": [],
   "source": [
    "var_ranks = rfe.ranking_"
   ]
  },
  {
   "cell_type": "code",
   "execution_count": 60,
   "id": "146a2275",
   "metadata": {},
   "outputs": [],
   "source": [
    "var_names = x_train.columns.tolist()"
   ]
  },
  {
   "cell_type": "code",
   "execution_count": 61,
   "id": "7b38a6e5",
   "metadata": {},
   "outputs": [],
   "source": [
    "rfe_ranks_df = pd.DataFrame({'Var':var_names, 'Rank':var_ranks})"
   ]
  },
  {
   "cell_type": "code",
   "execution_count": 62,
   "id": "9b20bc84",
   "metadata": {},
   "outputs": [
    {
     "data": {
      "text/html": [
       "<div>\n",
       "<style scoped>\n",
       "    .dataframe tbody tr th:only-of-type {\n",
       "        vertical-align: middle;\n",
       "    }\n",
       "\n",
       "    .dataframe tbody tr th {\n",
       "        vertical-align: top;\n",
       "    }\n",
       "\n",
       "    .dataframe thead th {\n",
       "        text-align: right;\n",
       "    }\n",
       "</style>\n",
       "<table border=\"1\" class=\"dataframe\">\n",
       "  <thead>\n",
       "    <tr style=\"text-align: right;\">\n",
       "      <th></th>\n",
       "      <th>Var</th>\n",
       "      <th>Rank</th>\n",
       "    </tr>\n",
       "  </thead>\n",
       "  <tbody>\n",
       "    <tr>\n",
       "      <th>0</th>\n",
       "      <td>bed</td>\n",
       "      <td>1</td>\n",
       "    </tr>\n",
       "    <tr>\n",
       "      <th>2</th>\n",
       "      <td>square_feet</td>\n",
       "      <td>1</td>\n",
       "    </tr>\n",
       "    <tr>\n",
       "      <th>3</th>\n",
       "      <td>lot_square_feet</td>\n",
       "      <td>1</td>\n",
       "    </tr>\n",
       "    <tr>\n",
       "      <th>1</th>\n",
       "      <td>bath</td>\n",
       "      <td>2</td>\n",
       "    </tr>\n",
       "    <tr>\n",
       "      <th>5</th>\n",
       "      <td>year_built</td>\n",
       "      <td>3</td>\n",
       "    </tr>\n",
       "    <tr>\n",
       "      <th>7</th>\n",
       "      <td>fireplace</td>\n",
       "      <td>4</td>\n",
       "    </tr>\n",
       "    <tr>\n",
       "      <th>4</th>\n",
       "      <td>zipcode</td>\n",
       "      <td>5</td>\n",
       "    </tr>\n",
       "    <tr>\n",
       "      <th>6</th>\n",
       "      <td>pool</td>\n",
       "      <td>6</td>\n",
       "    </tr>\n",
       "  </tbody>\n",
       "</table>\n",
       "</div>"
      ],
      "text/plain": [
       "               Var  Rank\n",
       "0              bed     1\n",
       "2      square_feet     1\n",
       "3  lot_square_feet     1\n",
       "1             bath     2\n",
       "5       year_built     3\n",
       "7        fireplace     4\n",
       "4          zipcode     5\n",
       "6             pool     6"
      ]
     },
     "execution_count": 62,
     "metadata": {},
     "output_type": "execute_result"
    }
   ],
   "source": [
    "rfe_ranks_df.sort_values('Rank')"
   ]
  },
  {
   "cell_type": "markdown",
   "id": "0070c960",
   "metadata": {},
   "source": [
    "The RFE shows that bedrooms, square feet, and lot square feet are the best features, answering question #5."
   ]
  },
  {
   "cell_type": "code",
   "execution_count": 155,
   "id": "f6914585",
   "metadata": {},
   "outputs": [],
   "source": [
    "# Here I will be dropping the columns I do not intend to use during the modeling phase. \n",
    "x_train_model = x_train.drop(columns=['fireplace', 'pool', 'zipcode', 'year_built', 'lot_square_feet'])\n",
    "scaler.fit(x_train_model)\n",
    "x_train_model = scaler.transform(x_train_model)\n",
    "\n",
    "x_validate_model = x_validate.drop(columns=['fireplace', 'pool', 'zipcode', 'year_built', 'lot_square_feet'])\n",
    "x_validate_model = scaler.transform(x_validate_model)\n",
    "\n",
    "x_test_model = x_test.drop(columns=['fireplace', 'pool', 'zipcode', 'year_built', 'lot_square_feet'])\n",
    "x_test_model = scaler.transform(x_test_model)"
   ]
  },
  {
   "cell_type": "markdown",
   "id": "775204a1",
   "metadata": {},
   "source": [
    "After feature engineering, and taking into account my exploration, I've decided to complete this project with these three features: \n",
    "- bedrooms\n",
    "- bathrooms\n",
    "- square feet"
   ]
  },
  {
   "cell_type": "markdown",
   "id": "89100fa8",
   "metadata": {},
   "source": [
    "## Baseline"
   ]
  },
  {
   "cell_type": "code",
   "execution_count": 63,
   "id": "d2b28f72",
   "metadata": {},
   "outputs": [],
   "source": [
    "from sklearn.metrics import mean_squared_error\n",
    "from sklearn.linear_model import LinearRegression, LassoLars, TweedieRegressor\n",
    "from sklearn.preprocessing import PolynomialFeatures"
   ]
  },
  {
   "cell_type": "code",
   "execution_count": 64,
   "id": "aabb3a41",
   "metadata": {},
   "outputs": [
    {
     "data": {
      "text/plain": [
       "442804.77603723254"
      ]
     },
     "execution_count": 64,
     "metadata": {},
     "output_type": "execute_result"
    }
   ],
   "source": [
    "y_train.mean()\n",
    "# The baseline rediction will be the mean price froms the train dataset."
   ]
  },
  {
   "cell_type": "code",
   "execution_count": 65,
   "id": "373e7fd0",
   "metadata": {},
   "outputs": [],
   "source": [
    "y_train = pd.DataFrame(y_train)\n",
    "y_validate = pd.DataFrame(y_validate)\n",
    "# Changes the y train and validate data to dataframes for easier use later."
   ]
  },
  {
   "cell_type": "code",
   "execution_count": 66,
   "id": "588e81f9",
   "metadata": {},
   "outputs": [],
   "source": [
    "y_train['baseline'] = y_train.price.mean()\n",
    "y_validate['baseline'] = y_validate.price.mean()\n",
    "# Establishing the baseline values for train and validate datasets."
   ]
  },
  {
   "cell_type": "code",
   "execution_count": 67,
   "id": "86694f1d",
   "metadata": {},
   "outputs": [
    {
     "data": {
      "text/html": [
       "<div>\n",
       "<style scoped>\n",
       "    .dataframe tbody tr th:only-of-type {\n",
       "        vertical-align: middle;\n",
       "    }\n",
       "\n",
       "    .dataframe tbody tr th {\n",
       "        vertical-align: top;\n",
       "    }\n",
       "\n",
       "    .dataframe thead th {\n",
       "        text-align: right;\n",
       "    }\n",
       "</style>\n",
       "<table border=\"1\" class=\"dataframe\">\n",
       "  <thead>\n",
       "    <tr style=\"text-align: right;\">\n",
       "      <th></th>\n",
       "      <th>price</th>\n",
       "      <th>baseline</th>\n",
       "    </tr>\n",
       "  </thead>\n",
       "  <tbody>\n",
       "    <tr>\n",
       "      <th>49316</th>\n",
       "      <td>692000.0</td>\n",
       "      <td>442804.776037</td>\n",
       "    </tr>\n",
       "    <tr>\n",
       "      <th>50671</th>\n",
       "      <td>345767.0</td>\n",
       "      <td>442804.776037</td>\n",
       "    </tr>\n",
       "    <tr>\n",
       "      <th>28115</th>\n",
       "      <td>1487435.0</td>\n",
       "      <td>442804.776037</td>\n",
       "    </tr>\n",
       "  </tbody>\n",
       "</table>\n",
       "</div>"
      ],
      "text/plain": [
       "           price       baseline\n",
       "49316   692000.0  442804.776037\n",
       "50671   345767.0  442804.776037\n",
       "28115  1487435.0  442804.776037"
      ]
     },
     "execution_count": 67,
     "metadata": {},
     "output_type": "execute_result"
    }
   ],
   "source": [
    "y_train.head(3)"
   ]
  },
  {
   "cell_type": "markdown",
   "id": "8c0cf995",
   "metadata": {},
   "source": [
    "The baseline prediction value is $442,804.77"
   ]
  },
  {
   "cell_type": "code",
   "execution_count": 68,
   "id": "6762ee12",
   "metadata": {},
   "outputs": [],
   "source": [
    "rmse_train = mean_squared_error(y_train.price, y_train.baseline)**(1/2)\n",
    "rmse_validate = mean_squared_error(y_validate.price, y_validate.baseline)**(1/2)"
   ]
  },
  {
   "cell_type": "code",
   "execution_count": 69,
   "id": "36214f89",
   "metadata": {},
   "outputs": [
    {
     "data": {
      "text/plain": [
       "352181.7661389873"
      ]
     },
     "execution_count": 69,
     "metadata": {},
     "output_type": "execute_result"
    }
   ],
   "source": [
    "rmse_train"
   ]
  },
  {
   "cell_type": "code",
   "execution_count": 70,
   "id": "603930a0",
   "metadata": {},
   "outputs": [
    {
     "data": {
      "text/plain": [
       "355365.5610374661"
      ]
     },
     "execution_count": 70,
     "metadata": {},
     "output_type": "execute_result"
    }
   ],
   "source": [
    "rmse_validate"
   ]
  },
  {
   "cell_type": "markdown",
   "id": "a1c12747",
   "metadata": {},
   "source": [
    "The baseline value to beat is 355365.56"
   ]
  },
  {
   "cell_type": "markdown",
   "id": "32cc81d9",
   "metadata": {},
   "source": [
    "## Train\n",
    "## Linear Regression (OLS)"
   ]
  },
  {
   "cell_type": "code",
   "execution_count": 163,
   "id": "22f29304",
   "metadata": {},
   "outputs": [],
   "source": [
    "# establish the algorithm\n",
    "lm = LinearRegression(normalize=True)"
   ]
  },
  {
   "cell_type": "code",
   "execution_count": 164,
   "id": "4d6ba7e8",
   "metadata": {},
   "outputs": [
    {
     "data": {
      "text/plain": [
       "LinearRegression(normalize=True)"
      ]
     },
     "execution_count": 164,
     "metadata": {},
     "output_type": "execute_result"
    }
   ],
   "source": [
    "# fit the algorithm to the data\n",
    "lm.fit(x_train_model, y_train.price)"
   ]
  },
  {
   "cell_type": "code",
   "execution_count": 174,
   "id": "907e65c7",
   "metadata": {},
   "outputs": [],
   "source": [
    "# generate predictions based on the data it received\n",
    "y_train['price_pred_lm'] = lm.predict(x_train_model)\n",
    "rmse_train = mean_squared_error(y_train.price, y_train.price_pred_lm)**(1/2)"
   ]
  },
  {
   "cell_type": "code",
   "execution_count": 172,
   "id": "e26e75b2",
   "metadata": {},
   "outputs": [
    {
     "name": "stdout",
     "output_type": "stream",
     "text": [
      "RMSE for OLS using LinearRegression\n",
      "Training/In-Sample:  284982.0412820465\n"
     ]
    }
   ],
   "source": [
    "print(\"RMSE for OLS using LinearRegression\\nTraining/In-Sample: \", rmse_train)"
   ]
  },
  {
   "cell_type": "markdown",
   "id": "1ac07a87",
   "metadata": {},
   "source": [
    "## Lasso Lars"
   ]
  },
  {
   "cell_type": "code",
   "execution_count": 141,
   "id": "4dc67f22",
   "metadata": {},
   "outputs": [],
   "source": [
    "# establish the algorithm\n",
    "lars = LassoLars(alpha=1.0)"
   ]
  },
  {
   "cell_type": "code",
   "execution_count": 160,
   "id": "fc0200db",
   "metadata": {},
   "outputs": [
    {
     "data": {
      "text/plain": [
       "LassoLars()"
      ]
     },
     "execution_count": 160,
     "metadata": {},
     "output_type": "execute_result"
    }
   ],
   "source": [
    "# fit the algorithm to the data\n",
    "lars.fit(x_train_model, y_train.price)"
   ]
  },
  {
   "cell_type": "code",
   "execution_count": 161,
   "id": "f1a82486",
   "metadata": {},
   "outputs": [],
   "source": [
    "# generate predictions based on the data it received\n",
    "y_train['price_pred_lars'] = lars.predict(x_train_model)\n",
    "rmse_train = mean_squared_error(y_train.price, y_train.price_pred_lars)**(1/2)"
   ]
  },
  {
   "cell_type": "code",
   "execution_count": 179,
   "id": "52e7ba37",
   "metadata": {},
   "outputs": [
    {
     "name": "stdout",
     "output_type": "stream",
     "text": [
      "RMSE for Lasso + Lars\n",
      "Training/In-Sample:  285077.4400428301\n"
     ]
    }
   ],
   "source": [
    "print(\"RMSE for Lasso + Lars\\nTraining/In-Sample: \", rmse_train)"
   ]
  },
  {
   "cell_type": "markdown",
   "id": "2669c3b4",
   "metadata": {},
   "source": [
    "## Tweedie Regressor (GLM)"
   ]
  },
  {
   "cell_type": "code",
   "execution_count": 145,
   "id": "e6fa547d",
   "metadata": {},
   "outputs": [],
   "source": [
    "# establish the algorithm\n",
    "glm = TweedieRegressor(power=1, alpha=0)"
   ]
  },
  {
   "cell_type": "code",
   "execution_count": 146,
   "id": "46535469",
   "metadata": {},
   "outputs": [
    {
     "data": {
      "text/plain": [
       "TweedieRegressor(alpha=0, power=1)"
      ]
     },
     "execution_count": 146,
     "metadata": {},
     "output_type": "execute_result"
    }
   ],
   "source": [
    "# fit the algorithm to the data\n",
    "glm.fit(x_train_model, y_train.price)"
   ]
  },
  {
   "cell_type": "code",
   "execution_count": 147,
   "id": "7461357b",
   "metadata": {},
   "outputs": [],
   "source": [
    "# generate predictions based on the data it received\n",
    "y_train['price_pred_glm'] = glm.predict(x_train_model)\n",
    "rmse_train = mean_squared_error(y_train.price, y_train.price_pred_glm)**(1/2)"
   ]
  },
  {
   "cell_type": "code",
   "execution_count": 180,
   "id": "5c6a484f",
   "metadata": {},
   "outputs": [
    {
     "name": "stdout",
     "output_type": "stream",
     "text": [
      "RMSE for GLM using Tweedie, power=1 & alpha=0\n",
      "Training/In-Sample:  285077.4400428301\n"
     ]
    }
   ],
   "source": [
    "print(\"RMSE for GLM using Tweedie, power=1 & alpha=0\\nTraining/In-Sample: \", rmse_train)"
   ]
  },
  {
   "cell_type": "markdown",
   "id": "d3ec28a1",
   "metadata": {},
   "source": [
    "Based on the performance of these models, I believe I should move forward with validating only the Linear Regression and Lasso Lars models."
   ]
  },
  {
   "cell_type": "markdown",
   "id": "50e65ddf",
   "metadata": {},
   "source": [
    "## Validate\n",
    "## Linear Regression (OLS)"
   ]
  },
  {
   "cell_type": "code",
   "execution_count": 175,
   "id": "df9bf95e",
   "metadata": {},
   "outputs": [],
   "source": [
    "# generate predictions with validate data\n",
    "y_validate['price_pred_lm'] = lm.predict(x_validate_model)\n",
    "rmse_validate = mean_squared_error(y_validate.price, y_validate.price_pred_lm)**(1/2)"
   ]
  },
  {
   "cell_type": "code",
   "execution_count": 176,
   "id": "88ceb484",
   "metadata": {},
   "outputs": [
    {
     "name": "stdout",
     "output_type": "stream",
     "text": [
      "RMSE for OLS using LinearRegression\n",
      "Validation/Out-of-Sample:  288524.21105117653\n"
     ]
    }
   ],
   "source": [
    "print(\"RMSE for OLS using LinearRegression\\nValidation/Out-of-Sample: \", rmse_validate)"
   ]
  },
  {
   "cell_type": "markdown",
   "id": "43e9deb4",
   "metadata": {},
   "source": [
    "## Lasso Lars"
   ]
  },
  {
   "cell_type": "code",
   "execution_count": 177,
   "id": "80459e80",
   "metadata": {},
   "outputs": [],
   "source": [
    "# generate predicstions with validate data\n",
    "y_validate['price_pred_lars'] = lars.predict(x_validate_model)\n",
    "rmse_validate = mean_squared_error(y_validate.price, y_validate.price_pred_lars)**(1/2)"
   ]
  },
  {
   "cell_type": "code",
   "execution_count": 178,
   "id": "c8be14d4",
   "metadata": {},
   "outputs": [
    {
     "name": "stdout",
     "output_type": "stream",
     "text": [
      "RMSE for Lasso + Lars\n",
      "Validation/Out-of-Sample:  288430.01255722693\n"
     ]
    }
   ],
   "source": [
    "print(\"RMSE for Lasso + Lars\\nValidation/Out-of-Sample: \", rmse_validate)"
   ]
  },
  {
   "cell_type": "markdown",
   "id": "5c7b539c",
   "metadata": {},
   "source": [
    "Based on the performace on validate, I will be using Lasso Lars on the Test data."
   ]
  },
  {
   "cell_type": "markdown",
   "id": "8387d533",
   "metadata": {},
   "source": [
    "# Test\n",
    "\n",
    "## Lasso Lars"
   ]
  },
  {
   "cell_type": "code",
   "execution_count": 181,
   "id": "d27b15e8",
   "metadata": {},
   "outputs": [],
   "source": [
    "# generate predictions with test data\n",
    "y_test['price_pred_lars'] = lars.predict(x_test_model)\n",
    "rmse_test = mean_squared_error(y_test.price, y_test.price_pred_lars)**(1/2)"
   ]
  },
  {
   "cell_type": "code",
   "execution_count": 182,
   "id": "999c2d62",
   "metadata": {},
   "outputs": [
    {
     "data": {
      "text/plain": [
       "279883.6498976515"
      ]
     },
     "execution_count": 182,
     "metadata": {},
     "output_type": "execute_result"
    }
   ],
   "source": [
    "rmse_test"
   ]
  },
  {
   "cell_type": "markdown",
   "id": "e3cc3c74",
   "metadata": {},
   "source": [
    "rmse_baseline = 355365.56\n",
    "\n",
    "The model's performance on the test dataset outperformed the baseline by about 20%."
   ]
  },
  {
   "cell_type": "markdown",
   "id": "23c8c814",
   "metadata": {},
   "source": [
    "# Conclusion / Takeaways\n",
    "\n",
    "### Questions:\n",
    "1. Is there a relationship between house square feet and price?   Yes\n",
    "2. Are houses with more bedrooms priced higher than houses with less bedrooms?   Yes\n",
    "3. Are houses with more bathrooms priced higher than houses with less bathrooms?   Yes\n",
    "4. Does the age of a house affect the price?   Yes\n",
    "5. What are the best price predictors?   SKB: bed, bath, square feet.    RFE: bed, square feet, lot square feet"
   ]
  },
  {
   "cell_type": "markdown",
   "id": "7f9bf4a6",
   "metadata": {},
   "source": [
    "### Recommendations:\n",
    "\n",
    "Use our models to try and buy houses we believe will sell for a higher price."
   ]
  },
  {
   "cell_type": "markdown",
   "id": "673866d9",
   "metadata": {},
   "source": [
    "### Next Steps:\n",
    "\n",
    "Refine the model by introducing new variables and reconfiguring the model specifications. This will help to better implement my recommendation."
   ]
  },
  {
   "cell_type": "code",
   "execution_count": null,
   "id": "367ee56a",
   "metadata": {},
   "outputs": [],
   "source": []
  }
 ],
 "metadata": {
  "kernelspec": {
   "display_name": "Python 3 (ipykernel)",
   "language": "python",
   "name": "python3"
  },
  "language_info": {
   "codemirror_mode": {
    "name": "ipython",
    "version": 3
   },
   "file_extension": ".py",
   "mimetype": "text/x-python",
   "name": "python",
   "nbconvert_exporter": "python",
   "pygments_lexer": "ipython3",
   "version": "3.9.12"
  }
 },
 "nbformat": 4,
 "nbformat_minor": 5
}
